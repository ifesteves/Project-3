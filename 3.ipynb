{
 "cells": [
  {
   "cell_type": "markdown",
   "metadata": {},
   "source": [
    "\n",
    "\n",
    "Olá estudante!\n",
    "\n",
    "Me chamo Rafael Meirelles e irei revisar o seu projeto hoje e em eventuais futuras submissões até que ele cumpra todos os requisitos para o aceite.\n",
    "Conte comigo nessa jornada e não se preocupe se precisar ajustar alguns detalhes, é parte do processo e fundamental para que você exercite os conceitos que vem aprendendo e assim melhore a qualidade dos seus códigos e análises.\n",
    "\n",
    "**Peço que mantenha e não altereos comentários que eu fizer por aqui para que possamos nos localizar posteriormente, ok?**\n",
    "\n",
    "Mais uma coisa, vamos utilizar um código de cores para você entender os meus feedbacks no seu notebook. Funciona assim:\n",
    "\n",
    "\n",
    "<div class=\"alert alert-danger\">\n",
    "<strong>Vermelho</strong>\n",
    "\n",
    "Erro que precisa ser consertado, caso contrário, seu projeto não pode ser aceito\n",
    "\n",
    "</div>\n",
    "\n",
    "<div class=\"alert alert-warning\">\n",
    "<strong>Amarelo</strong>\n",
    "\n",
    "Alerta de um erro não crítco, mas que pode ser corrigido para melhoria geral no seu código/análise\n",
    "\n",
    "</div>\n",
    "\n",
    "<div class=\"alert alert-success\">\n",
    "<strong>Verde</strong>\n",
    "\n",
    "Elogios\n",
    "</div>\n",
    "\n",
    "<div class=\"alert alert-info\">\n",
    "<strong>Comentário do estudante</strong>\n",
    "\n",
    "Use uma caixa azul como essa para eventuais comentários que você gostaria de fazer para mim.\n",
    "</div>\n",
    "\n"
   ]
  },
  {
   "cell_type": "markdown",
   "metadata": {
    "id": "eAkbw7Ueuj8X"
   },
   "source": [
    "# Qual é o melhor plano?\n",
    "\n",
    "Você trabalha como analista para a empresa de telecomunicações Megaline. A empresa oferece aos clientes dois planos pré-pagos: Surf e Ultimate. O departamento comercial quer saber qual dos planos gera mais receita para ajustar o orçamento de publicidade.\n",
    "\n",
    "Você vai realizar uma análise preliminar dos planos com base em uma pequena seleção de clientes. Você terá dados de 500 clientes da Megaline: que clientes são, de onde eles são, qual plano usam e o número de chamadas e mensagens realizadas em 2018. Seu trabalho é analisar o comportamento dos clientes e determinar qual plano pré-pago gera mais receita."
   ]
  },
  {
   "cell_type": "markdown",
   "metadata": {},
   "source": [
    "<div class=\"alert alert-warning\">\n",
    "<strong>Comentário do revisor v1</strong>\n",
    "\n",
    "Lembre-se de ao final remover os comentários em []\n",
    "</div>"
   ]
  },
  {
   "cell_type": "markdown",
   "metadata": {},
   "source": [
    "<div class=\"alert alert-info\">\n",
    "<strong>Comentário do estudante</strong>\n",
    "\n",
    "Fiz a remoção dos comentários em []\n",
    "</div>\n",
    "\n",
    "\n"
   ]
  },
  {
   "cell_type": "markdown",
   "metadata": {
    "id": "lnomf-3Xuj8b"
   },
   "source": [
    "## Inicialização"
   ]
  },
  {
   "cell_type": "code",
   "execution_count": 1,
   "metadata": {
    "id": "JdJusn5ouj8c"
   },
   "outputs": [],
   "source": [
    "# Carregando todas as bibliotecas\n",
    "import pandas as pd\n",
    "import numpy as np\n",
    "import matplotlib.pyplot as plt\n",
    "import datetime\n",
    "import seaborn as sns\n",
    "from scipy import stats"
   ]
  },
  {
   "cell_type": "markdown",
   "metadata": {
    "id": "rzqsCrgquj8d"
   },
   "source": [
    "## Carregue os dados"
   ]
  },
  {
   "cell_type": "code",
   "execution_count": 2,
   "metadata": {
    "id": "HmzmQRXIuj8e"
   },
   "outputs": [],
   "source": [
    "# Carregue os arquivos de dados em diferentes DataFrames\n",
    "calls_path = \"/datasets/megaline_calls.csv\"\n",
    "internet_path = \"/datasets/megaline_internet.csv\"\n",
    "messages_path = \"/datasets/megaline_messages.csv\"\n",
    "plans_path = \"/datasets/megaline_plans.csv\"\n",
    "users_path = \"/datasets/megaline_users.csv\"\n",
    "\n",
    "df_calls = pd.read_csv(calls_path)\n",
    "df_internet = pd.read_csv(internet_path)\n",
    "df_messages = pd.read_csv(messages_path)\n",
    "df_plans = pd.read_csv(plans_path)\n",
    "df_users = pd.read_csv(users_path)"
   ]
  },
  {
   "cell_type": "markdown",
   "metadata": {
    "id": "XQh-EeiIuj8e"
   },
   "source": [
    "## Prepare os dados"
   ]
  },
  {
   "cell_type": "markdown",
   "metadata": {
    "id": "TlZUw_Cyuj8f"
   },
   "source": [
    "## Planos"
   ]
  },
  {
   "cell_type": "code",
   "execution_count": 3,
   "metadata": {
    "id": "x9qB5mAOuj8f"
   },
   "outputs": [
    {
     "name": "stdout",
     "output_type": "stream",
     "text": [
      "<class 'pandas.core.frame.DataFrame'>\n",
      "RangeIndex: 2 entries, 0 to 1\n",
      "Data columns (total 8 columns):\n",
      " #   Column                 Non-Null Count  Dtype  \n",
      "---  ------                 --------------  -----  \n",
      " 0   messages_included      2 non-null      int64  \n",
      " 1   mb_per_month_included  2 non-null      int64  \n",
      " 2   minutes_included       2 non-null      int64  \n",
      " 3   usd_monthly_pay        2 non-null      int64  \n",
      " 4   usd_per_gb             2 non-null      int64  \n",
      " 5   usd_per_message        2 non-null      float64\n",
      " 6   usd_per_minute         2 non-null      float64\n",
      " 7   plan_name              2 non-null      object \n",
      "dtypes: float64(2), int64(5), object(1)\n",
      "memory usage: 256.0+ bytes\n"
     ]
    }
   ],
   "source": [
    "# Imprima as informações gerais/resumidas sobre o DataFrame dos planos\n",
    "df_plans.info()"
   ]
  },
  {
   "cell_type": "code",
   "execution_count": 4,
   "metadata": {
    "id": "9MRo7tyVuj8f"
   },
   "outputs": [
    {
     "data": {
      "text/html": [
       "<div>\n",
       "<style scoped>\n",
       "    .dataframe tbody tr th:only-of-type {\n",
       "        vertical-align: middle;\n",
       "    }\n",
       "\n",
       "    .dataframe tbody tr th {\n",
       "        vertical-align: top;\n",
       "    }\n",
       "\n",
       "    .dataframe thead th {\n",
       "        text-align: right;\n",
       "    }\n",
       "</style>\n",
       "<table border=\"1\" class=\"dataframe\">\n",
       "  <thead>\n",
       "    <tr style=\"text-align: right;\">\n",
       "      <th></th>\n",
       "      <th>messages_included</th>\n",
       "      <th>mb_per_month_included</th>\n",
       "      <th>minutes_included</th>\n",
       "      <th>usd_monthly_pay</th>\n",
       "      <th>usd_per_gb</th>\n",
       "      <th>usd_per_message</th>\n",
       "      <th>usd_per_minute</th>\n",
       "      <th>plan_name</th>\n",
       "    </tr>\n",
       "  </thead>\n",
       "  <tbody>\n",
       "    <tr>\n",
       "      <th>0</th>\n",
       "      <td>50</td>\n",
       "      <td>15360</td>\n",
       "      <td>500</td>\n",
       "      <td>20</td>\n",
       "      <td>10</td>\n",
       "      <td>0.03</td>\n",
       "      <td>0.03</td>\n",
       "      <td>surf</td>\n",
       "    </tr>\n",
       "    <tr>\n",
       "      <th>1</th>\n",
       "      <td>1000</td>\n",
       "      <td>30720</td>\n",
       "      <td>3000</td>\n",
       "      <td>70</td>\n",
       "      <td>7</td>\n",
       "      <td>0.01</td>\n",
       "      <td>0.01</td>\n",
       "      <td>ultimate</td>\n",
       "    </tr>\n",
       "  </tbody>\n",
       "</table>\n",
       "</div>"
      ],
      "text/plain": [
       "   messages_included  mb_per_month_included  minutes_included  \\\n",
       "0                 50                  15360               500   \n",
       "1               1000                  30720              3000   \n",
       "\n",
       "   usd_monthly_pay  usd_per_gb  usd_per_message  usd_per_minute plan_name  \n",
       "0               20          10             0.03            0.03      surf  \n",
       "1               70           7             0.01            0.01  ultimate  "
      ]
     },
     "execution_count": 4,
     "metadata": {},
     "output_type": "execute_result"
    }
   ],
   "source": [
    "# Imprima uma amostra de dados dos planos\n",
    "df_plans.head()"
   ]
  },
  {
   "cell_type": "markdown",
   "metadata": {
    "id": "P8hzr-lquj8f"
   },
   "source": [
    "Na tabela plans, consta informações de cada plano oferecido pela empresa de telecomunicação Megaline, sendo eles os planos Surf e Ultimate. Não vejo informações ausentes ou que precisam de correções para esta tabela, a única observação é que as informações na coluna 'mb_per_month_included' estão por MB e não por GB (1 GB = 1024 MB). Sendo o plano Surf de 15 GB (15.360 MB) e o plano Ultimate de 30 GB (30.720 MB)."
   ]
  },
  {
   "cell_type": "markdown",
   "metadata": {},
   "source": [
    "<div class=\"alert alert-success\">\n",
    "<strong>Comentário do revisor v1</strong>\n",
    "\n",
    "ok!\n",
    "</div>"
   ]
  },
  {
   "cell_type": "markdown",
   "metadata": {
    "id": "KXtaxmKsuj8f"
   },
   "source": [
    "## Corrija os dados"
   ]
  },
  {
   "cell_type": "code",
   "execution_count": null,
   "metadata": {
    "id": "Hen8bhG1uj8g"
   },
   "outputs": [],
   "source": []
  },
  {
   "cell_type": "markdown",
   "metadata": {
    "id": "kLcdKu6Duj8g"
   },
   "source": [
    "## Enriqueça os dados"
   ]
  },
  {
   "cell_type": "code",
   "execution_count": null,
   "metadata": {
    "id": "6j4XA9_ruj8g"
   },
   "outputs": [],
   "source": []
  },
  {
   "cell_type": "markdown",
   "metadata": {},
   "source": [
    "<div class=\"alert alert-danger\">\n",
    "<strong>Comentário do revisor v1</strong>\n",
    "\n",
    "Não entendi muito bem a ideia aqui. Poderia explicar?\n",
    "</div>"
   ]
  },
  {
   "cell_type": "markdown",
   "metadata": {},
   "source": [
    "<div class=\"alert alert-info\">\n",
    "<strong>Comentário do estudante</strong>\n",
    "\n",
    "Neste ponto eu tentei agregar informações na tabela plans, porém, não sinto necessidade, pois a tabela traz informações básicas na qual não precisam de complementos (mas entendi que era obrigatório fazer algo para passar neste ponto). Sendo assim, posso simplesmente deletar o código utilizado inicialmente e optar por não trazer valores adicionais neste ponto?\n",
    "</div>"
   ]
  },
  {
   "cell_type": "markdown",
   "metadata": {},
   "source": [
    "\n",
    "<div class=\"alert alert-success\">\n",
    "<strong>Comentário do revisor v2</strong>\n",
    "\n",
    "De acordo!\n",
    "</div>\n"
   ]
  },
  {
   "cell_type": "markdown",
   "metadata": {
    "id": "YJg2O9qjuj8g"
   },
   "source": [
    "## Usuários"
   ]
  },
  {
   "cell_type": "code",
   "execution_count": 5,
   "metadata": {
    "id": "7JzxwD2juj8g"
   },
   "outputs": [
    {
     "name": "stdout",
     "output_type": "stream",
     "text": [
      "<class 'pandas.core.frame.DataFrame'>\n",
      "RangeIndex: 500 entries, 0 to 499\n",
      "Data columns (total 8 columns):\n",
      " #   Column      Non-Null Count  Dtype \n",
      "---  ------      --------------  ----- \n",
      " 0   user_id     500 non-null    int64 \n",
      " 1   first_name  500 non-null    object\n",
      " 2   last_name   500 non-null    object\n",
      " 3   age         500 non-null    int64 \n",
      " 4   city        500 non-null    object\n",
      " 5   reg_date    500 non-null    object\n",
      " 6   plan        500 non-null    object\n",
      " 7   churn_date  34 non-null     object\n",
      "dtypes: int64(2), object(6)\n",
      "memory usage: 31.4+ KB\n"
     ]
    }
   ],
   "source": [
    "# Imprima as informações gerais/resumidas sobre o DataFrame dos usuários\n",
    "df_users.info()"
   ]
  },
  {
   "cell_type": "code",
   "execution_count": 6,
   "metadata": {
    "id": "5KZ8XmD8uj8g"
   },
   "outputs": [
    {
     "data": {
      "text/html": [
       "<div>\n",
       "<style scoped>\n",
       "    .dataframe tbody tr th:only-of-type {\n",
       "        vertical-align: middle;\n",
       "    }\n",
       "\n",
       "    .dataframe tbody tr th {\n",
       "        vertical-align: top;\n",
       "    }\n",
       "\n",
       "    .dataframe thead th {\n",
       "        text-align: right;\n",
       "    }\n",
       "</style>\n",
       "<table border=\"1\" class=\"dataframe\">\n",
       "  <thead>\n",
       "    <tr style=\"text-align: right;\">\n",
       "      <th></th>\n",
       "      <th>user_id</th>\n",
       "      <th>first_name</th>\n",
       "      <th>last_name</th>\n",
       "      <th>age</th>\n",
       "      <th>city</th>\n",
       "      <th>reg_date</th>\n",
       "      <th>plan</th>\n",
       "      <th>churn_date</th>\n",
       "    </tr>\n",
       "  </thead>\n",
       "  <tbody>\n",
       "    <tr>\n",
       "      <th>240</th>\n",
       "      <td>1240</td>\n",
       "      <td>Drema</td>\n",
       "      <td>Lopez</td>\n",
       "      <td>61</td>\n",
       "      <td>Baton Rouge, LA MSA</td>\n",
       "      <td>2018-03-18</td>\n",
       "      <td>surf</td>\n",
       "      <td>NaN</td>\n",
       "    </tr>\n",
       "    <tr>\n",
       "      <th>346</th>\n",
       "      <td>1346</td>\n",
       "      <td>Emmie</td>\n",
       "      <td>Gonzalez</td>\n",
       "      <td>59</td>\n",
       "      <td>Tucson, AZ MSA</td>\n",
       "      <td>2018-04-26</td>\n",
       "      <td>ultimate</td>\n",
       "      <td>NaN</td>\n",
       "    </tr>\n",
       "    <tr>\n",
       "      <th>260</th>\n",
       "      <td>1260</td>\n",
       "      <td>Alia</td>\n",
       "      <td>Aguilar</td>\n",
       "      <td>36</td>\n",
       "      <td>Los Angeles-Long Beach-Anaheim, CA MSA</td>\n",
       "      <td>2018-12-02</td>\n",
       "      <td>surf</td>\n",
       "      <td>NaN</td>\n",
       "    </tr>\n",
       "    <tr>\n",
       "      <th>18</th>\n",
       "      <td>1018</td>\n",
       "      <td>Dennis</td>\n",
       "      <td>Grimes</td>\n",
       "      <td>70</td>\n",
       "      <td>Indianapolis-Carmel-Anderson, IN MSA</td>\n",
       "      <td>2018-10-17</td>\n",
       "      <td>surf</td>\n",
       "      <td>NaN</td>\n",
       "    </tr>\n",
       "    <tr>\n",
       "      <th>82</th>\n",
       "      <td>1082</td>\n",
       "      <td>Dominic</td>\n",
       "      <td>Witt</td>\n",
       "      <td>64</td>\n",
       "      <td>Memphis, TN-MS-AR MSA</td>\n",
       "      <td>2018-04-15</td>\n",
       "      <td>surf</td>\n",
       "      <td>NaN</td>\n",
       "    </tr>\n",
       "    <tr>\n",
       "      <th>462</th>\n",
       "      <td>1462</td>\n",
       "      <td>Lesley</td>\n",
       "      <td>Workman</td>\n",
       "      <td>20</td>\n",
       "      <td>Las Vegas-Henderson-Paradise, NV MSA</td>\n",
       "      <td>2018-09-05</td>\n",
       "      <td>ultimate</td>\n",
       "      <td>NaN</td>\n",
       "    </tr>\n",
       "    <tr>\n",
       "      <th>351</th>\n",
       "      <td>1351</td>\n",
       "      <td>Kyle</td>\n",
       "      <td>Grimes</td>\n",
       "      <td>47</td>\n",
       "      <td>San Antonio-New Braunfels, TX MSA</td>\n",
       "      <td>2018-09-05</td>\n",
       "      <td>ultimate</td>\n",
       "      <td>NaN</td>\n",
       "    </tr>\n",
       "    <tr>\n",
       "      <th>291</th>\n",
       "      <td>1291</td>\n",
       "      <td>Angeles</td>\n",
       "      <td>Mejia</td>\n",
       "      <td>65</td>\n",
       "      <td>Indianapolis-Carmel-Anderson, IN MSA</td>\n",
       "      <td>2018-01-29</td>\n",
       "      <td>surf</td>\n",
       "      <td>NaN</td>\n",
       "    </tr>\n",
       "    <tr>\n",
       "      <th>311</th>\n",
       "      <td>1311</td>\n",
       "      <td>Cherlyn</td>\n",
       "      <td>Saunders</td>\n",
       "      <td>69</td>\n",
       "      <td>Memphis, TN-MS-AR MSA</td>\n",
       "      <td>2018-06-27</td>\n",
       "      <td>ultimate</td>\n",
       "      <td>NaN</td>\n",
       "    </tr>\n",
       "    <tr>\n",
       "      <th>298</th>\n",
       "      <td>1298</td>\n",
       "      <td>Loyce</td>\n",
       "      <td>Cooley</td>\n",
       "      <td>53</td>\n",
       "      <td>Nashville-Davidson–Murfreesboro–Franklin, TN MSA</td>\n",
       "      <td>2018-09-21</td>\n",
       "      <td>surf</td>\n",
       "      <td>2018-12-19</td>\n",
       "    </tr>\n",
       "  </tbody>\n",
       "</table>\n",
       "</div>"
      ],
      "text/plain": [
       "     user_id first_name last_name  age  \\\n",
       "240     1240      Drema     Lopez   61   \n",
       "346     1346      Emmie  Gonzalez   59   \n",
       "260     1260       Alia   Aguilar   36   \n",
       "18      1018     Dennis    Grimes   70   \n",
       "82      1082    Dominic      Witt   64   \n",
       "462     1462     Lesley   Workman   20   \n",
       "351     1351       Kyle    Grimes   47   \n",
       "291     1291    Angeles     Mejia   65   \n",
       "311     1311    Cherlyn  Saunders   69   \n",
       "298     1298      Loyce    Cooley   53   \n",
       "\n",
       "                                                 city    reg_date      plan  \\\n",
       "240                               Baton Rouge, LA MSA  2018-03-18      surf   \n",
       "346                                    Tucson, AZ MSA  2018-04-26  ultimate   \n",
       "260            Los Angeles-Long Beach-Anaheim, CA MSA  2018-12-02      surf   \n",
       "18               Indianapolis-Carmel-Anderson, IN MSA  2018-10-17      surf   \n",
       "82                              Memphis, TN-MS-AR MSA  2018-04-15      surf   \n",
       "462              Las Vegas-Henderson-Paradise, NV MSA  2018-09-05  ultimate   \n",
       "351                 San Antonio-New Braunfels, TX MSA  2018-09-05  ultimate   \n",
       "291              Indianapolis-Carmel-Anderson, IN MSA  2018-01-29      surf   \n",
       "311                             Memphis, TN-MS-AR MSA  2018-06-27  ultimate   \n",
       "298  Nashville-Davidson–Murfreesboro–Franklin, TN MSA  2018-09-21      surf   \n",
       "\n",
       "     churn_date  \n",
       "240         NaN  \n",
       "346         NaN  \n",
       "260         NaN  \n",
       "18          NaN  \n",
       "82          NaN  \n",
       "462         NaN  \n",
       "351         NaN  \n",
       "291         NaN  \n",
       "311         NaN  \n",
       "298  2018-12-19  "
      ]
     },
     "execution_count": 6,
     "metadata": {},
     "output_type": "execute_result"
    }
   ],
   "source": [
    "# Imprima uma amostra de dados dos usuários\n",
    "df_users.sample(10)"
   ]
  },
  {
   "cell_type": "markdown",
   "metadata": {
    "id": "XGCgkfLvuj8h"
   },
   "source": [
    "Na tabela users, podemos ver informações ausentes na coluna 'churn_date'. Iremos substituir estas informações ausentes por 'ativo' usando .fillna()."
   ]
  },
  {
   "cell_type": "markdown",
   "metadata": {
    "id": "ppiEfe3luj8i"
   },
   "source": [
    "### Corrija os dados"
   ]
  },
  {
   "cell_type": "code",
   "execution_count": 7,
   "metadata": {
    "id": "Oa1XFooouj8j"
   },
   "outputs": [
    {
     "name": "stdout",
     "output_type": "stream",
     "text": [
      "['ativo' '2018-12-18' '2018-11-16' '2018-09-07' '2018-12-30' '2018-10-07'\n",
      " '2018-12-31' '2018-11-24' '2018-11-11' '2018-12-12' '2018-11-14'\n",
      " '2018-12-27' '2018-11-29' '2018-12-22' '2018-11-30' '2018-10-13'\n",
      " '2018-07-31' '2018-12-15' '2018-12-19' '2018-10-03' '2018-10-22'\n",
      " '2018-08-16' '2018-12-26' '2018-09-01' '2018-11-21' '2018-08-19'\n",
      " '2018-12-10' '2018-09-17' '2018-11-18' '2018-09-18']\n"
     ]
    }
   ],
   "source": [
    "df_users['churn_date'].fillna('ativo', inplace=True)\n",
    "print(df_users['churn_date'].unique())"
   ]
  },
  {
   "cell_type": "markdown",
   "metadata": {
    "id": "H3gpde3Juj8j"
   },
   "source": [
    "### Enriqueça os dados"
   ]
  },
  {
   "cell_type": "code",
   "execution_count": 8,
   "metadata": {},
   "outputs": [
    {
     "name": "stdout",
     "output_type": "stream",
     "text": [
      "           user_id         age  time_with_megaline\n",
      "count   500.000000  500.000000          500.000000\n",
      "mean   1249.500000   45.486000         1921.312000\n",
      "std     144.481833   16.972269          104.997427\n",
      "min    1000.000000   18.000000         1732.000000\n",
      "25%    1124.750000   30.000000         1833.750000\n",
      "50%    1249.500000   46.000000         1926.000000\n",
      "75%    1374.250000   61.000000         2012.250000\n",
      "max    1499.000000   75.000000         2096.000000\n",
      "0\n",
      "   user_id first_name  last_name  age                                    city  \\\n",
      "0     1000   Anamaria      Bauer   45   Atlanta-Sandy Springs-Roswell, GA MSA   \n",
      "1     1001     Mickey  Wilkerson   28         Seattle-Tacoma-Bellevue, WA MSA   \n",
      "2     1002     Carlee    Hoffman   36    Las Vegas-Henderson-Paradise, NV MSA   \n",
      "3     1003   Reynaldo    Jenkins   52                           Tulsa, OK MSA   \n",
      "4     1004    Leonila   Thompson   40         Seattle-Tacoma-Bellevue, WA MSA   \n",
      "5     1005      Livia    Shields   31     Dallas-Fort Worth-Arlington, TX MSA   \n",
      "6     1006     Jesusa   Bradford   73  San Francisco-Oakland-Berkeley, CA MSA   \n",
      "7     1007    Eusebio      Welch   42           Grand Rapids-Kentwood, MI MSA   \n",
      "8     1008      Emely    Hoffman   53       Orlando-Kissimmee-Sanford, FL MSA   \n",
      "9     1009      Gerry     Little   19  San Jose-Sunnyvale-Santa Clara, CA MSA   \n",
      "\n",
      "    reg_date      plan  churn_date age_group  time_with_megaline  \n",
      "0 2018-12-24  ultimate       ativo     40-50                1739  \n",
      "1 2018-08-13      surf       ativo     20-30                1872  \n",
      "2 2018-10-21      surf       ativo     30-40                1803  \n",
      "3 2018-01-28      surf       ativo       50+                2069  \n",
      "4 2018-05-23      surf       ativo     40-50                1954  \n",
      "5 2018-11-29      surf       ativo     30-40                1764  \n",
      "6 2018-11-27  ultimate  2018-12-18       50+                1766  \n",
      "7 2018-07-11      surf       ativo     40-50                1905  \n",
      "8 2018-08-03  ultimate       ativo       50+                1882  \n",
      "9 2018-04-22      surf       ativo     10-20                1985  \n"
     ]
    }
   ],
   "source": [
    "df_users['age'] = df_users['age'].astype(int)\n",
    "\n",
    "def categorize_age(age):\n",
    "    if pd.notnull(age):\n",
    "        if age < 20:\n",
    "            return '10-20'\n",
    "        elif age < 30:\n",
    "            return '20-30'\n",
    "        elif age < 40:\n",
    "            return '30-40'\n",
    "        elif age < 50:\n",
    "            return '40-50'\n",
    "        else:\n",
    "            return '50+'\n",
    "    else:\n",
    "        return 'Unknown'\n",
    "\n",
    "df_users['age_group'] = df_users['age'].apply(categorize_age)\n",
    "\n",
    "\n",
    "df_users['reg_date'] = pd.to_datetime(df_users['reg_date'], format='%Y-%m-%d')\n",
    "df_users['time_with_megaline'] = (datetime.datetime.now() - df_users['reg_date']).dt.days\n",
    "\n",
    "print(df_users.describe())\n",
    "\n",
    "print(df_users.duplicated().sum())\n",
    "\n",
    "print(df_users.head(10))"
   ]
  },
  {
   "cell_type": "markdown",
   "metadata": {},
   "source": [
    "A idade média dos usuários é aproximadamente 45 anos.\n",
    "\n",
    "O tempo médio que os usuários estão com a Megaline é aproximadamente 1920 dias.\n",
    "\n",
    "Os tipos de dados foram corrigidos e estão apropriados: int64 para user_id, age, time_with_megaline, e datetime64 para reg_date.\n",
    "\n",
    "Não há valores nulos em nenhuma das colunas."
   ]
  },
  {
   "cell_type": "markdown",
   "metadata": {},
   "source": [
    "<div class=\"alert alert-danger\">\n",
    "<strong>Comentário do revisor v1</strong>\n",
    "\n",
    "\n",
    "Lembre-se de utilizar o describe() para detectar valores atípicos em todas as bases importadas e de verificar por duplicados.\n",
    "\n",
    "Existe uma coluna com o tipo inadequado também.\n",
    "</div>"
   ]
  },
  {
   "cell_type": "markdown",
   "metadata": {},
   "source": [
    "<div class=\"alert alert-info\">\n",
    "<strong>Comentário do estudante</strong>\n",
    "\n",
    "Fiz correções nos códigos para nova análise.\n",
    "</div>"
   ]
  },
  {
   "cell_type": "markdown",
   "metadata": {},
   "source": [
    "\n",
    "<div class=\"alert alert-danger\">\n",
    "<strong>Comentário do revisor v2</strong>\n",
    "\n",
    "Bom trabalho inserindo os métodos solicitados. Importante concluir algo sobre o que eles estão nos dizendo.\n",
    "</div>\n"
   ]
  },
  {
   "cell_type": "markdown",
   "metadata": {},
   "source": [
    "<div class=\"alert alert-info\">\n",
    "<strong>Comentário do estudante</strong>\n",
    "\n",
    "conclusões inseridas\n",
    "</div>\n",
    "\n",
    "\n"
   ]
  },
  {
   "cell_type": "markdown",
   "metadata": {
    "id": "f4uSIMuuuj8j"
   },
   "source": [
    "## Chamadas"
   ]
  },
  {
   "cell_type": "code",
   "execution_count": 9,
   "metadata": {
    "id": "hkY01fJnuj8j",
    "scrolled": true
   },
   "outputs": [
    {
     "name": "stdout",
     "output_type": "stream",
     "text": [
      "<class 'pandas.core.frame.DataFrame'>\n",
      "RangeIndex: 137735 entries, 0 to 137734\n",
      "Data columns (total 4 columns):\n",
      " #   Column     Non-Null Count   Dtype  \n",
      "---  ------     --------------   -----  \n",
      " 0   id         137735 non-null  object \n",
      " 1   user_id    137735 non-null  int64  \n",
      " 2   call_date  137735 non-null  object \n",
      " 3   duration   137735 non-null  float64\n",
      "dtypes: float64(1), int64(1), object(2)\n",
      "memory usage: 4.2+ MB\n"
     ]
    }
   ],
   "source": [
    "# Imprima as informações gerais/resumidas sobre o DataFrame das chamadas\n",
    "df_calls.info()"
   ]
  },
  {
   "cell_type": "code",
   "execution_count": 10,
   "metadata": {
    "id": "wdBwJG5Yuj8k"
   },
   "outputs": [
    {
     "data": {
      "text/html": [
       "<div>\n",
       "<style scoped>\n",
       "    .dataframe tbody tr th:only-of-type {\n",
       "        vertical-align: middle;\n",
       "    }\n",
       "\n",
       "    .dataframe tbody tr th {\n",
       "        vertical-align: top;\n",
       "    }\n",
       "\n",
       "    .dataframe thead th {\n",
       "        text-align: right;\n",
       "    }\n",
       "</style>\n",
       "<table border=\"1\" class=\"dataframe\">\n",
       "  <thead>\n",
       "    <tr style=\"text-align: right;\">\n",
       "      <th></th>\n",
       "      <th>id</th>\n",
       "      <th>user_id</th>\n",
       "      <th>call_date</th>\n",
       "      <th>duration</th>\n",
       "    </tr>\n",
       "  </thead>\n",
       "  <tbody>\n",
       "    <tr>\n",
       "      <th>95409</th>\n",
       "      <td>1338_213</td>\n",
       "      <td>1338</td>\n",
       "      <td>2018-11-08</td>\n",
       "      <td>11.20</td>\n",
       "    </tr>\n",
       "    <tr>\n",
       "      <th>53487</th>\n",
       "      <td>1192_327</td>\n",
       "      <td>1192</td>\n",
       "      <td>2018-11-17</td>\n",
       "      <td>12.30</td>\n",
       "    </tr>\n",
       "    <tr>\n",
       "      <th>10159</th>\n",
       "      <td>1046_25</td>\n",
       "      <td>1046</td>\n",
       "      <td>2018-08-29</td>\n",
       "      <td>12.64</td>\n",
       "    </tr>\n",
       "    <tr>\n",
       "      <th>101861</th>\n",
       "      <td>1362_620</td>\n",
       "      <td>1362</td>\n",
       "      <td>2018-09-15</td>\n",
       "      <td>15.34</td>\n",
       "    </tr>\n",
       "    <tr>\n",
       "      <th>53661</th>\n",
       "      <td>1193_31</td>\n",
       "      <td>1193</td>\n",
       "      <td>2018-09-16</td>\n",
       "      <td>9.73</td>\n",
       "    </tr>\n",
       "    <tr>\n",
       "      <th>72123</th>\n",
       "      <td>1256_419</td>\n",
       "      <td>1256</td>\n",
       "      <td>2018-10-07</td>\n",
       "      <td>0.00</td>\n",
       "    </tr>\n",
       "    <tr>\n",
       "      <th>110861</th>\n",
       "      <td>1390_310</td>\n",
       "      <td>1390</td>\n",
       "      <td>2018-05-30</td>\n",
       "      <td>4.27</td>\n",
       "    </tr>\n",
       "    <tr>\n",
       "      <th>118306</th>\n",
       "      <td>1412_590</td>\n",
       "      <td>1412</td>\n",
       "      <td>2018-09-19</td>\n",
       "      <td>2.61</td>\n",
       "    </tr>\n",
       "    <tr>\n",
       "      <th>118858</th>\n",
       "      <td>1414_156</td>\n",
       "      <td>1414</td>\n",
       "      <td>2018-09-08</td>\n",
       "      <td>0.00</td>\n",
       "    </tr>\n",
       "    <tr>\n",
       "      <th>68588</th>\n",
       "      <td>1246_607</td>\n",
       "      <td>1246</td>\n",
       "      <td>2018-02-04</td>\n",
       "      <td>0.00</td>\n",
       "    </tr>\n",
       "  </tbody>\n",
       "</table>\n",
       "</div>"
      ],
      "text/plain": [
       "              id  user_id   call_date  duration\n",
       "95409   1338_213     1338  2018-11-08     11.20\n",
       "53487   1192_327     1192  2018-11-17     12.30\n",
       "10159    1046_25     1046  2018-08-29     12.64\n",
       "101861  1362_620     1362  2018-09-15     15.34\n",
       "53661    1193_31     1193  2018-09-16      9.73\n",
       "72123   1256_419     1256  2018-10-07      0.00\n",
       "110861  1390_310     1390  2018-05-30      4.27\n",
       "118306  1412_590     1412  2018-09-19      2.61\n",
       "118858  1414_156     1414  2018-09-08      0.00\n",
       "68588   1246_607     1246  2018-02-04      0.00"
      ]
     },
     "execution_count": 10,
     "metadata": {},
     "output_type": "execute_result"
    }
   ],
   "source": [
    "# Imprima uma amostra de dados das chamadas\n",
    "df_calls.sample(10)"
   ]
  },
  {
   "cell_type": "markdown",
   "metadata": {
    "id": "Y8An85-Tuj8k"
   },
   "source": [
    "Na tabela calls, foi identificada informações ausentes na coluna 'duration', iremos substituir esses valores ausentes pela média utilizando a função .mean()"
   ]
  },
  {
   "cell_type": "markdown",
   "metadata": {
    "id": "x5a99U4xuj8k"
   },
   "source": [
    "### Corrija os dados"
   ]
  },
  {
   "cell_type": "code",
   "execution_count": 11,
   "metadata": {
    "id": "lBjdw0Bnuj8l"
   },
   "outputs": [
    {
     "name": "stdout",
     "output_type": "stream",
     "text": [
      "0     8.52\n",
      "1    13.66\n",
      "2    14.48\n",
      "3     5.76\n",
      "4     4.22\n",
      "5     2.20\n",
      "6     5.75\n",
      "7    14.18\n",
      "8     5.77\n",
      "9     4.40\n",
      "Name: duration, dtype: float64\n"
     ]
    }
   ],
   "source": [
    "df_calls['duration'] = df_calls['duration'].replace(0.00, df_calls['duration'].mean())\n",
    "print(df_calls['duration'].head(10))"
   ]
  },
  {
   "cell_type": "markdown",
   "metadata": {
    "id": "MFm5xyh4uj8l"
   },
   "source": [
    "### Enriqueça os dados"
   ]
  },
  {
   "cell_type": "code",
   "execution_count": 12,
   "metadata": {
    "id": "nwOKTgfluj8l"
   },
   "outputs": [
    {
     "name": "stdout",
     "output_type": "stream",
     "text": [
      "             id        user_id                      call_date       duration  \\\n",
      "count    137735  137735.000000                         137735  137735.000000   \n",
      "unique   137735            NaN                            NaN            NaN   \n",
      "top     1263_27            NaN                            NaN            NaN   \n",
      "freq          1            NaN                            NaN            NaN   \n",
      "mean        NaN    1247.658046  2018-09-25 19:57:56.319018496       8.060191   \n",
      "min         NaN    1000.000000            2018-01-15 00:00:00       0.010000   \n",
      "25%         NaN    1128.000000            2018-08-08 00:00:00       5.010000   \n",
      "50%         NaN    1247.000000            2018-10-12 00:00:00       6.745927   \n",
      "75%         NaN    1365.000000            2018-11-26 00:00:00      10.690000   \n",
      "max         NaN    1499.000000            2018-12-31 00:00:00      37.600000   \n",
      "std         NaN     139.416268                            NaN       4.848034   \n",
      "\n",
      "       day_of_week  rounded_duration call_period  \n",
      "count       137735     137735.000000      137735  \n",
      "unique           7               NaN           1  \n",
      "top         Monday               NaN       Night  \n",
      "freq         20329               NaN      137735  \n",
      "mean           NaN          8.510437         NaN  \n",
      "min            NaN          1.000000         NaN  \n",
      "25%            NaN          6.000000         NaN  \n",
      "50%            NaN          7.000000         NaN  \n",
      "75%            NaN         11.000000         NaN  \n",
      "max            NaN         38.000000         NaN  \n",
      "std            NaN          4.862387         NaN  \n",
      "0\n",
      "         id  user_id  call_date  duration day_of_week  rounded_duration  \\\n",
      "0   1000_93     1000 2018-12-27      8.52    Thursday               9.0   \n",
      "1  1000_145     1000 2018-12-27     13.66    Thursday              14.0   \n",
      "2  1000_247     1000 2018-12-27     14.48    Thursday              15.0   \n",
      "3  1000_309     1000 2018-12-28      5.76      Friday               6.0   \n",
      "4  1000_380     1000 2018-12-30      4.22      Sunday               5.0   \n",
      "5  1000_388     1000 2018-12-31      2.20      Monday               3.0   \n",
      "6  1000_510     1000 2018-12-27      5.75    Thursday               6.0   \n",
      "7  1000_521     1000 2018-12-28     14.18      Friday              15.0   \n",
      "8  1000_530     1000 2018-12-28      5.77      Friday               6.0   \n",
      "9  1000_544     1000 2018-12-26      4.40   Wednesday               5.0   \n",
      "\n",
      "  call_period  \n",
      "0       Night  \n",
      "1       Night  \n",
      "2       Night  \n",
      "3       Night  \n",
      "4       Night  \n",
      "5       Night  \n",
      "6       Night  \n",
      "7       Night  \n",
      "8       Night  \n",
      "9       Night  \n"
     ]
    }
   ],
   "source": [
    "def categorize_call_period(hour):\n",
    "    if 6 <= hour < 12:\n",
    "        return 'Morning'\n",
    "    elif 12 <= hour < 18:\n",
    "        return 'Afternoon'\n",
    "    elif 18 <= hour < 24:\n",
    "        return 'Evening'\n",
    "    else:\n",
    "        return 'Night'\n",
    "\n",
    "# Dia da semana da chamada\n",
    "df_calls['call_date'] = pd.to_datetime(df_calls['call_date'], format='%Y-%m-%d')\n",
    "df_calls['day_of_week'] = df_calls['call_date'].dt.day_name()\n",
    "\n",
    "# Arredondar a duração da chamada para o próximo minuto\n",
    "df_calls['rounded_duration'] = np.ceil(df_calls['duration'])\n",
    "\n",
    "# Calcular o período do dia da chamada\n",
    "df_calls['call_period'] = df_calls['call_date'].dt.hour.apply(categorize_call_period)\n",
    "\n",
    "print(df_calls.describe(include='all', datetime_is_numeric=True))\n",
    "\n",
    "print(df_calls.duplicated().sum())\n",
    "\n",
    "print(df_calls.head(10))"
   ]
  },
  {
   "cell_type": "markdown",
   "metadata": {},
   "source": [
    "A duração das chamadas tem uma distribuição ampla, com uma média de aproximadamente 8.06 minutos.\n",
    "\n",
    "As chamadas foram feitas em todos os dias da semana, sendo mais frequênte as terças-feiras. A maioria das chamadas ocorreu à noite."
   ]
  },
  {
   "cell_type": "markdown",
   "metadata": {},
   "source": [
    "<div class=\"alert alert-danger\">\n",
    "<strong>Comentário do revisor v1</strong>\n",
    "\n",
    "Boas percepções nessa sessão!\n",
    "Fique atento novamente para o tipo de variável, describe e duplicados.\n",
    "</div>"
   ]
  },
  {
   "cell_type": "markdown",
   "metadata": {},
   "source": [
    "<div class=\"alert alert-info\">\n",
    "<strong>Comentário do estudante</strong>\n",
    "\n",
    "Fiz correções nos códigos para nova análise.\n",
    "</div>"
   ]
  },
  {
   "cell_type": "markdown",
   "metadata": {},
   "source": [
    "\n",
    "<div class=\"alert alert-danger\">\n",
    "<strong>Comentário do revisor v2</strong>\n",
    "\n",
    "Perfeito!\n",
    "\n",
    "O mesmo ponto sobre a conclusão vale aqui.\n",
    "</div>\n"
   ]
  },
  {
   "cell_type": "markdown",
   "metadata": {},
   "source": [
    "<div class=\"alert alert-info\">\n",
    "<strong>Comentário do estudante</strong>\n",
    "\n",
    "conclusões inseridas\n",
    "</div>\n",
    "\n",
    "\n"
   ]
  },
  {
   "cell_type": "markdown",
   "metadata": {
    "id": "qLz4FkyRuj8l"
   },
   "source": [
    "## Mensagens"
   ]
  },
  {
   "cell_type": "code",
   "execution_count": 13,
   "metadata": {
    "id": "nFA9DFkCuj8l"
   },
   "outputs": [
    {
     "name": "stdout",
     "output_type": "stream",
     "text": [
      "<class 'pandas.core.frame.DataFrame'>\n",
      "RangeIndex: 76051 entries, 0 to 76050\n",
      "Data columns (total 3 columns):\n",
      " #   Column        Non-Null Count  Dtype \n",
      "---  ------        --------------  ----- \n",
      " 0   id            76051 non-null  object\n",
      " 1   user_id       76051 non-null  int64 \n",
      " 2   message_date  76051 non-null  object\n",
      "dtypes: int64(1), object(2)\n",
      "memory usage: 1.7+ MB\n"
     ]
    }
   ],
   "source": [
    "# Imprima as informações gerais/resumidas sobre o DataFrame das mensagens\n",
    "df_messages.info()"
   ]
  },
  {
   "cell_type": "code",
   "execution_count": 14,
   "metadata": {
    "id": "ysEFBZWxuj8m"
   },
   "outputs": [
    {
     "data": {
      "text/html": [
       "<div>\n",
       "<style scoped>\n",
       "    .dataframe tbody tr th:only-of-type {\n",
       "        vertical-align: middle;\n",
       "    }\n",
       "\n",
       "    .dataframe tbody tr th {\n",
       "        vertical-align: top;\n",
       "    }\n",
       "\n",
       "    .dataframe thead th {\n",
       "        text-align: right;\n",
       "    }\n",
       "</style>\n",
       "<table border=\"1\" class=\"dataframe\">\n",
       "  <thead>\n",
       "    <tr style=\"text-align: right;\">\n",
       "      <th></th>\n",
       "      <th>id</th>\n",
       "      <th>user_id</th>\n",
       "      <th>message_date</th>\n",
       "    </tr>\n",
       "  </thead>\n",
       "  <tbody>\n",
       "    <tr>\n",
       "      <th>26460</th>\n",
       "      <td>1159_463</td>\n",
       "      <td>1159</td>\n",
       "      <td>2018-09-15</td>\n",
       "    </tr>\n",
       "    <tr>\n",
       "      <th>75996</th>\n",
       "      <td>1496_60</td>\n",
       "      <td>1496</td>\n",
       "      <td>2018-11-19</td>\n",
       "    </tr>\n",
       "    <tr>\n",
       "      <th>64715</th>\n",
       "      <td>1412_297</td>\n",
       "      <td>1412</td>\n",
       "      <td>2018-11-02</td>\n",
       "    </tr>\n",
       "    <tr>\n",
       "      <th>65891</th>\n",
       "      <td>1428_142</td>\n",
       "      <td>1428</td>\n",
       "      <td>2018-11-13</td>\n",
       "    </tr>\n",
       "    <tr>\n",
       "      <th>57872</th>\n",
       "      <td>1365_28</td>\n",
       "      <td>1365</td>\n",
       "      <td>2018-08-10</td>\n",
       "    </tr>\n",
       "    <tr>\n",
       "      <th>67572</th>\n",
       "      <td>1438_138</td>\n",
       "      <td>1438</td>\n",
       "      <td>2018-12-26</td>\n",
       "    </tr>\n",
       "    <tr>\n",
       "      <th>32332</th>\n",
       "      <td>1201_25</td>\n",
       "      <td>1201</td>\n",
       "      <td>2018-11-22</td>\n",
       "    </tr>\n",
       "    <tr>\n",
       "      <th>70351</th>\n",
       "      <td>1456_375</td>\n",
       "      <td>1456</td>\n",
       "      <td>2018-10-01</td>\n",
       "    </tr>\n",
       "    <tr>\n",
       "      <th>33979</th>\n",
       "      <td>1214_73</td>\n",
       "      <td>1214</td>\n",
       "      <td>2018-11-16</td>\n",
       "    </tr>\n",
       "    <tr>\n",
       "      <th>15548</th>\n",
       "      <td>1101_605</td>\n",
       "      <td>1101</td>\n",
       "      <td>2018-08-29</td>\n",
       "    </tr>\n",
       "  </tbody>\n",
       "</table>\n",
       "</div>"
      ],
      "text/plain": [
       "             id  user_id message_date\n",
       "26460  1159_463     1159   2018-09-15\n",
       "75996   1496_60     1496   2018-11-19\n",
       "64715  1412_297     1412   2018-11-02\n",
       "65891  1428_142     1428   2018-11-13\n",
       "57872   1365_28     1365   2018-08-10\n",
       "67572  1438_138     1438   2018-12-26\n",
       "32332   1201_25     1201   2018-11-22\n",
       "70351  1456_375     1456   2018-10-01\n",
       "33979   1214_73     1214   2018-11-16\n",
       "15548  1101_605     1101   2018-08-29"
      ]
     },
     "execution_count": 14,
     "metadata": {},
     "output_type": "execute_result"
    }
   ],
   "source": [
    "# Imprima uma amostra dos dados das mensagens\n",
    "df_messages.sample(10)"
   ]
  },
  {
   "cell_type": "markdown",
   "metadata": {
    "id": "GUtt1TqCuj8m"
   },
   "source": [
    "Na tabela messages, não foi identificada informações ausentes ou que precisem de correções."
   ]
  },
  {
   "cell_type": "markdown",
   "metadata": {
    "id": "tT8N_hc6uj8m"
   },
   "source": [
    "### Corrija os dados"
   ]
  },
  {
   "cell_type": "code",
   "execution_count": null,
   "metadata": {
    "id": "SpBqbQHCuj8m"
   },
   "outputs": [],
   "source": []
  },
  {
   "cell_type": "markdown",
   "metadata": {
    "id": "feV2Njo9uj8n"
   },
   "source": [
    "### Enriqueça os dados"
   ]
  },
  {
   "cell_type": "code",
   "execution_count": 15,
   "metadata": {
    "id": "SkuCXcLJuj8n"
   },
   "outputs": [
    {
     "name": "stdout",
     "output_type": "stream",
     "text": [
      "Empty DataFrame\n",
      "Columns: [id, user_id, message_date, day_of_week, message_period]\n",
      "Index: []\n",
      "              id       user_id                   message_date day_of_week  \\\n",
      "count      76051  76051.000000                          76051       76051   \n",
      "unique     76051           NaN                            NaN           7   \n",
      "top     1132_938           NaN                            NaN      Monday   \n",
      "freq           1           NaN                            NaN       11030   \n",
      "mean         NaN   1245.972768  2018-10-03 23:51:32.172358144         NaN   \n",
      "min          NaN   1000.000000            2018-01-15 00:00:00         NaN   \n",
      "25%          NaN   1123.000000            2018-08-22 00:00:00         NaN   \n",
      "50%          NaN   1251.000000            2018-10-20 00:00:00         NaN   \n",
      "75%          NaN   1362.000000            2018-12-01 00:00:00         NaN   \n",
      "max          NaN   1497.000000            2018-12-31 00:00:00         NaN   \n",
      "std          NaN    139.843635                            NaN         NaN   \n",
      "\n",
      "       message_period  \n",
      "count           76051  \n",
      "unique              1  \n",
      "top             Night  \n",
      "freq            76051  \n",
      "mean              NaN  \n",
      "min               NaN  \n",
      "25%               NaN  \n",
      "50%               NaN  \n",
      "75%               NaN  \n",
      "max               NaN  \n",
      "std               NaN  \n",
      "         id  user_id message_date day_of_week message_period\n",
      "0  1000_125     1000   2018-12-27    Thursday          Night\n",
      "1  1000_160     1000   2018-12-31      Monday          Night\n",
      "2  1000_223     1000   2018-12-31      Monday          Night\n",
      "3  1000_251     1000   2018-12-27    Thursday          Night\n",
      "4  1000_255     1000   2018-12-26   Wednesday          Night\n",
      "5  1000_346     1000   2018-12-29    Saturday          Night\n",
      "6  1000_386     1000   2018-12-30      Sunday          Night\n",
      "7  1000_413     1000   2018-12-31      Monday          Night\n",
      "8  1000_502     1000   2018-12-27    Thursday          Night\n",
      "9  1000_525     1000   2018-12-28      Friday          Night\n"
     ]
    }
   ],
   "source": [
    "def categorize_message_period(hour):\n",
    "    if 6 <= hour < 12:\n",
    "        return 'Morning'\n",
    "    elif 12 <= hour < 18:\n",
    "        return 'Afternoon'\n",
    "    elif 18 <= hour < 24:\n",
    "        return 'Evening'\n",
    "    else:\n",
    "        return 'Night'\n",
    "\n",
    "# Dia da semana da mensagem\n",
    "df_messages['message_date'] = pd.to_datetime(df_messages['message_date'], format='%Y-%m-%d')\n",
    "df_messages['day_of_week'] = df_messages['message_date'].dt.day_name()\n",
    "\n",
    "# Período do dia da mensagem\n",
    "df_messages['message_period'] = df_messages['message_date'].dt.hour.apply(categorize_message_period)\n",
    "\n",
    "print(df_messages[df_messages.duplicated()])\n",
    "\n",
    "print(df_messages.describe(include='all', datetime_is_numeric=True))\n",
    "\n",
    "print(df_messages.head(10))"
   ]
  },
  {
   "cell_type": "markdown",
   "metadata": {},
   "source": [
    "Há um total de 76,051 registros de mensagens na base de dados.\n",
    "As mensagens foram enviadas em todos os dias da semana, sendo que segunda-feira teve a maior frequência de mensagens.\n",
    "A maioria das mensagens foi enviada durante á noite."
   ]
  },
  {
   "cell_type": "markdown",
   "metadata": {},
   "source": [
    "<div class=\"alert alert-danger\">\n",
    "<strong>Comentário do revisor v1</strong>\n",
    "\n",
    "Fique atento novamente para o tipo de variável, describe e duplicados.\n",
    "</div>"
   ]
  },
  {
   "cell_type": "markdown",
   "metadata": {},
   "source": [
    "<div class=\"alert alert-info\">\n",
    "<strong>Comentário do estudante</strong>\n",
    "\n",
    "Fiz correções nos códigos para nova análise.\n",
    "</div>"
   ]
  },
  {
   "cell_type": "markdown",
   "metadata": {},
   "source": [
    "\n",
    "<div class=\"alert alert-danger\">\n",
    "<strong>Comentário do revisor v2</strong>\n",
    "\n",
    "O mesmo ponto vale por aqui.\n",
    "</div>\n"
   ]
  },
  {
   "cell_type": "markdown",
   "metadata": {},
   "source": [
    "<div class=\"alert alert-info\">\n",
    "<strong>Comentário do estudante</strong>\n",
    "\n",
    "conclusões inseridas\n",
    "</div>\n",
    "\n",
    "\n"
   ]
  },
  {
   "cell_type": "markdown",
   "metadata": {
    "id": "ZRFaOWzGuj8n"
   },
   "source": [
    "## Internet"
   ]
  },
  {
   "cell_type": "code",
   "execution_count": 16,
   "metadata": {
    "id": "ob3-qv4nuj8n"
   },
   "outputs": [
    {
     "name": "stdout",
     "output_type": "stream",
     "text": [
      "<class 'pandas.core.frame.DataFrame'>\n",
      "RangeIndex: 104825 entries, 0 to 104824\n",
      "Data columns (total 4 columns):\n",
      " #   Column        Non-Null Count   Dtype  \n",
      "---  ------        --------------   -----  \n",
      " 0   id            104825 non-null  object \n",
      " 1   user_id       104825 non-null  int64  \n",
      " 2   session_date  104825 non-null  object \n",
      " 3   mb_used       104825 non-null  float64\n",
      "dtypes: float64(1), int64(1), object(2)\n",
      "memory usage: 3.2+ MB\n"
     ]
    }
   ],
   "source": [
    "# Imprima as informações gerais/resumidas sobre o DataFrame da internet\n",
    "df_internet.info()"
   ]
  },
  {
   "cell_type": "code",
   "execution_count": 17,
   "metadata": {
    "id": "iIHK4fZsuj8n"
   },
   "outputs": [
    {
     "data": {
      "text/html": [
       "<div>\n",
       "<style scoped>\n",
       "    .dataframe tbody tr th:only-of-type {\n",
       "        vertical-align: middle;\n",
       "    }\n",
       "\n",
       "    .dataframe tbody tr th {\n",
       "        vertical-align: top;\n",
       "    }\n",
       "\n",
       "    .dataframe thead th {\n",
       "        text-align: right;\n",
       "    }\n",
       "</style>\n",
       "<table border=\"1\" class=\"dataframe\">\n",
       "  <thead>\n",
       "    <tr style=\"text-align: right;\">\n",
       "      <th></th>\n",
       "      <th>id</th>\n",
       "      <th>user_id</th>\n",
       "      <th>session_date</th>\n",
       "      <th>mb_used</th>\n",
       "    </tr>\n",
       "  </thead>\n",
       "  <tbody>\n",
       "    <tr>\n",
       "      <th>7871</th>\n",
       "      <td>1042_81</td>\n",
       "      <td>1042</td>\n",
       "      <td>2018-05-12</td>\n",
       "      <td>750.53</td>\n",
       "    </tr>\n",
       "    <tr>\n",
       "      <th>84978</th>\n",
       "      <td>1397_237</td>\n",
       "      <td>1397</td>\n",
       "      <td>2018-06-13</td>\n",
       "      <td>57.89</td>\n",
       "    </tr>\n",
       "    <tr>\n",
       "      <th>34424</th>\n",
       "      <td>1156_21</td>\n",
       "      <td>1156</td>\n",
       "      <td>2018-10-14</td>\n",
       "      <td>0.00</td>\n",
       "    </tr>\n",
       "    <tr>\n",
       "      <th>24922</th>\n",
       "      <td>1114_318</td>\n",
       "      <td>1114</td>\n",
       "      <td>2018-08-01</td>\n",
       "      <td>1024.28</td>\n",
       "    </tr>\n",
       "    <tr>\n",
       "      <th>89766</th>\n",
       "      <td>1414_222</td>\n",
       "      <td>1414</td>\n",
       "      <td>2018-10-11</td>\n",
       "      <td>445.86</td>\n",
       "    </tr>\n",
       "    <tr>\n",
       "      <th>102857</th>\n",
       "      <td>1492_90</td>\n",
       "      <td>1492</td>\n",
       "      <td>2018-10-07</td>\n",
       "      <td>0.00</td>\n",
       "    </tr>\n",
       "    <tr>\n",
       "      <th>100332</th>\n",
       "      <td>1475_125</td>\n",
       "      <td>1475</td>\n",
       "      <td>2018-10-23</td>\n",
       "      <td>265.14</td>\n",
       "    </tr>\n",
       "    <tr>\n",
       "      <th>14399</th>\n",
       "      <td>1066_292</td>\n",
       "      <td>1066</td>\n",
       "      <td>2018-04-02</td>\n",
       "      <td>480.23</td>\n",
       "    </tr>\n",
       "    <tr>\n",
       "      <th>99461</th>\n",
       "      <td>1468_276</td>\n",
       "      <td>1468</td>\n",
       "      <td>2018-10-12</td>\n",
       "      <td>266.74</td>\n",
       "    </tr>\n",
       "    <tr>\n",
       "      <th>61165</th>\n",
       "      <td>1277_468</td>\n",
       "      <td>1277</td>\n",
       "      <td>2018-05-02</td>\n",
       "      <td>369.61</td>\n",
       "    </tr>\n",
       "  </tbody>\n",
       "</table>\n",
       "</div>"
      ],
      "text/plain": [
       "              id  user_id session_date  mb_used\n",
       "7871     1042_81     1042   2018-05-12   750.53\n",
       "84978   1397_237     1397   2018-06-13    57.89\n",
       "34424    1156_21     1156   2018-10-14     0.00\n",
       "24922   1114_318     1114   2018-08-01  1024.28\n",
       "89766   1414_222     1414   2018-10-11   445.86\n",
       "102857   1492_90     1492   2018-10-07     0.00\n",
       "100332  1475_125     1475   2018-10-23   265.14\n",
       "14399   1066_292     1066   2018-04-02   480.23\n",
       "99461   1468_276     1468   2018-10-12   266.74\n",
       "61165   1277_468     1277   2018-05-02   369.61"
      ]
     },
     "execution_count": 17,
     "metadata": {},
     "output_type": "execute_result"
    }
   ],
   "source": [
    "#  Imprima uma amostra de dados para o tráfego da internet\n",
    "df_internet.sample(10)"
   ]
  },
  {
   "cell_type": "markdown",
   "metadata": {
    "id": "6wpo7ugquj8o"
   },
   "source": [
    "Na tabela internet foi identificado valores ausente na coluna 'mb_used', o que pode representar a ausência de uso do pacote de dados para estes usuários."
   ]
  },
  {
   "cell_type": "markdown",
   "metadata": {
    "id": "Tly90YrTuj8o"
   },
   "source": [
    "### Corrija os dados"
   ]
  },
  {
   "cell_type": "code",
   "execution_count": null,
   "metadata": {
    "id": "GCoX7kbmuj8o"
   },
   "outputs": [],
   "source": []
  },
  {
   "cell_type": "markdown",
   "metadata": {
    "id": "DEDbrtFduj8o"
   },
   "source": [
    "### Enriqueça os dados"
   ]
  },
  {
   "cell_type": "code",
   "execution_count": 18,
   "metadata": {
    "id": "f1PoZ3Ukuj8p"
   },
   "outputs": [
    {
     "name": "stdout",
     "output_type": "stream",
     "text": [
      "Empty DataFrame\n",
      "Columns: [id, user_id, message_date, day_of_week, message_period]\n",
      "Index: []\n",
      "              id       user_id                   message_date day_of_week  \\\n",
      "count      76051  76051.000000                          76051       76051   \n",
      "unique     76051           NaN                            NaN           7   \n",
      "top     1132_938           NaN                            NaN      Monday   \n",
      "freq           1           NaN                            NaN       11030   \n",
      "mean         NaN   1245.972768  2018-10-03 23:51:32.172358144         NaN   \n",
      "min          NaN   1000.000000            2018-01-15 00:00:00         NaN   \n",
      "25%          NaN   1123.000000            2018-08-22 00:00:00         NaN   \n",
      "50%          NaN   1251.000000            2018-10-20 00:00:00         NaN   \n",
      "75%          NaN   1362.000000            2018-12-01 00:00:00         NaN   \n",
      "max          NaN   1497.000000            2018-12-31 00:00:00         NaN   \n",
      "std          NaN    139.843635                            NaN         NaN   \n",
      "\n",
      "       message_period  \n",
      "count           76051  \n",
      "unique              1  \n",
      "top             Night  \n",
      "freq            76051  \n",
      "mean              NaN  \n",
      "min               NaN  \n",
      "25%               NaN  \n",
      "50%               NaN  \n",
      "75%               NaN  \n",
      "max               NaN  \n",
      "std               NaN  \n",
      "         id  user_id session_date  mb_used day_of_week session_period  \\\n",
      "0   1000_13     1000   2018-12-29    89.86    Saturday          Night   \n",
      "1  1000_204     1000   2018-12-31     0.00      Monday          Night   \n",
      "2  1000_379     1000   2018-12-28   660.40      Friday          Night   \n",
      "3  1000_413     1000   2018-12-26   270.99   Wednesday          Night   \n",
      "4  1000_442     1000   2018-12-27   880.22    Thursday          Night   \n",
      "5    1001_0     1001   2018-08-24   284.68      Friday          Night   \n",
      "6    1001_3     1001   2018-12-09   656.04      Sunday          Night   \n",
      "7    1001_4     1001   2018-11-04    16.97      Sunday          Night   \n",
      "8   1001_10     1001   2018-11-27   135.18     Tuesday          Night   \n",
      "9   1001_15     1001   2018-12-13   761.92    Thursday          Night   \n",
      "\n",
      "   extra_data_gb  \n",
      "0              0  \n",
      "1              0  \n",
      "2              0  \n",
      "3              0  \n",
      "4              0  \n",
      "5              0  \n",
      "6              0  \n",
      "7              0  \n",
      "8              0  \n",
      "9              0  \n"
     ]
    }
   ],
   "source": [
    "def categorize_session_period(hour):\n",
    "    if 6 <= hour < 12:\n",
    "        return 'Morning'\n",
    "    elif 12 <= hour < 18:\n",
    "        return 'Afternoon'\n",
    "    elif 18 <= hour < 24:\n",
    "        return 'Evening'\n",
    "    else:\n",
    "        return 'Night'\n",
    "\n",
    "# Dia da semana da sessão web\n",
    "df_internet['session_date'] = pd.to_datetime(df_internet['session_date'], format='%Y-%m-%d')\n",
    "df_internet['day_of_week'] = df_internet['session_date'].dt.day_name()\n",
    "\n",
    "# Período do dia da sessão web\n",
    "df_internet['session_period'] = df_internet['session_date'].dt.hour.apply(categorize_session_period)\n",
    "\n",
    "# Identificar os usuários com dados ausentes\n",
    "users_with_missing_data = df_internet[df_internet['mb_used'].isnull()]['user_id']\n",
    "\n",
    "# Preencher os dados ausentes com 0 (nenhum dado usado)\n",
    "df_internet['mb_used'].fillna(0, inplace=True)\n",
    "\n",
    "# Adicionar a coluna 'extra_data_gb'\n",
    "df_internet['extra_data_gb'] = df_internet['mb_used'].apply(lambda x: max(0, (x - 15*1024) / 1024))\n",
    "\n",
    "print(df_messages[df_messages.duplicated()])\n",
    "\n",
    "print(df_messages.describe(include='all', datetime_is_numeric=True))\n",
    "\n",
    "print(df_internet.head(10))"
   ]
  },
  {
   "cell_type": "markdown",
   "metadata": {},
   "source": [
    "O tráfego de internet varia de 0 a cerca de 880 MB por sessão.\n",
    "O maior pico de MB são utilizados durante as terças-feiras.\n",
    "O período predominante para as sessões de internet é durante á noite."
   ]
  },
  {
   "cell_type": "markdown",
   "metadata": {},
   "source": [
    "<div class=\"alert alert-danger\">\n",
    "<strong>Comentário do revisor v1</strong>\n",
    "\n",
    "Temos um problema grave aqui! Os valores missing podem simplesmente serem ligados a usuários que não usaram internet... Substituí-los pela média pode gerar um problema grave de interpretação.\n",
    "</div>"
   ]
  },
  {
   "cell_type": "markdown",
   "metadata": {},
   "source": [
    "<div class=\"alert alert-info\">\n",
    "<strong>Comentário do estudante</strong>\n",
    "\n",
    "Fiz correções nos códigos para nova análise.\n",
    "</div>"
   ]
  },
  {
   "cell_type": "markdown",
   "metadata": {},
   "source": [
    "\n",
    "<div class=\"alert alert-danger\">\n",
    "<strong>Comentário do revisor v2</strong>\n",
    "\n",
    "O mesmo ponto vale por aqui.\n",
    "</div>"
   ]
  },
  {
   "cell_type": "markdown",
   "metadata": {},
   "source": [
    "<div class=\"alert alert-info\">\n",
    "<strong>Comentário do estudante</strong>\n",
    "\n",
    "conclusões inseridas\n",
    "</div>\n",
    "\n",
    "\n"
   ]
  },
  {
   "cell_type": "markdown",
   "metadata": {
    "id": "bnOX4ARJuj8p"
   },
   "source": [
    "## Estude as condições dos planos"
   ]
  },
  {
   "cell_type": "code",
   "execution_count": 19,
   "metadata": {
    "id": "vMXVndWEuj8p"
   },
   "outputs": [
    {
     "name": "stdout",
     "output_type": "stream",
     "text": [
      "<class 'pandas.core.frame.DataFrame'>\n",
      "RangeIndex: 2 entries, 0 to 1\n",
      "Data columns (total 8 columns):\n",
      " #   Column                 Non-Null Count  Dtype  \n",
      "---  ------                 --------------  -----  \n",
      " 0   messages_included      2 non-null      int64  \n",
      " 1   mb_per_month_included  2 non-null      int64  \n",
      " 2   minutes_included       2 non-null      int64  \n",
      " 3   usd_monthly_pay        2 non-null      int64  \n",
      " 4   usd_per_gb             2 non-null      int64  \n",
      " 5   usd_per_message        2 non-null      float64\n",
      " 6   usd_per_minute         2 non-null      float64\n",
      " 7   plan_name              2 non-null      object \n",
      "dtypes: float64(2), int64(5), object(1)\n",
      "memory usage: 256.0+ bytes\n"
     ]
    },
    {
     "data": {
      "text/html": [
       "<div>\n",
       "<style scoped>\n",
       "    .dataframe tbody tr th:only-of-type {\n",
       "        vertical-align: middle;\n",
       "    }\n",
       "\n",
       "    .dataframe tbody tr th {\n",
       "        vertical-align: top;\n",
       "    }\n",
       "\n",
       "    .dataframe thead th {\n",
       "        text-align: right;\n",
       "    }\n",
       "</style>\n",
       "<table border=\"1\" class=\"dataframe\">\n",
       "  <thead>\n",
       "    <tr style=\"text-align: right;\">\n",
       "      <th></th>\n",
       "      <th>messages_included</th>\n",
       "      <th>mb_per_month_included</th>\n",
       "      <th>minutes_included</th>\n",
       "      <th>usd_monthly_pay</th>\n",
       "      <th>usd_per_gb</th>\n",
       "      <th>usd_per_message</th>\n",
       "      <th>usd_per_minute</th>\n",
       "      <th>plan_name</th>\n",
       "    </tr>\n",
       "  </thead>\n",
       "  <tbody>\n",
       "    <tr>\n",
       "      <th>0</th>\n",
       "      <td>50</td>\n",
       "      <td>15360</td>\n",
       "      <td>500</td>\n",
       "      <td>20</td>\n",
       "      <td>10</td>\n",
       "      <td>0.03</td>\n",
       "      <td>0.03</td>\n",
       "      <td>surf</td>\n",
       "    </tr>\n",
       "    <tr>\n",
       "      <th>1</th>\n",
       "      <td>1000</td>\n",
       "      <td>30720</td>\n",
       "      <td>3000</td>\n",
       "      <td>70</td>\n",
       "      <td>7</td>\n",
       "      <td>0.01</td>\n",
       "      <td>0.01</td>\n",
       "      <td>ultimate</td>\n",
       "    </tr>\n",
       "  </tbody>\n",
       "</table>\n",
       "</div>"
      ],
      "text/plain": [
       "   messages_included  mb_per_month_included  minutes_included  \\\n",
       "0                 50                  15360               500   \n",
       "1               1000                  30720              3000   \n",
       "\n",
       "   usd_monthly_pay  usd_per_gb  usd_per_message  usd_per_minute plan_name  \n",
       "0               20          10             0.03            0.03      surf  \n",
       "1               70           7             0.01            0.01  ultimate  "
      ]
     },
     "execution_count": 19,
     "metadata": {},
     "output_type": "execute_result"
    }
   ],
   "source": [
    "# Imprima as condições do plano e certifique-se de que elas fazem sentido para você\n",
    "df_plans.info()\n",
    "df_plans.head()"
   ]
  },
  {
   "cell_type": "markdown",
   "metadata": {
    "id": "1v1EshDmuj8q"
   },
   "source": [
    "## Agregue os dados por usuário\n"
   ]
  },
  {
   "cell_type": "code",
   "execution_count": 20,
   "metadata": {
    "id": "4hmb2pSPuj8q"
   },
   "outputs": [
    {
     "name": "stdout",
     "output_type": "stream",
     "text": [
      "   user_id  month  calls_count\n",
      "0     1000     12           16\n",
      "1     1001      8           27\n",
      "2     1001      9           49\n",
      "3     1001     10           65\n",
      "4     1001     11           64\n",
      "5     1001     12           56\n",
      "6     1002     10           11\n",
      "7     1002     11           55\n",
      "8     1002     12           47\n",
      "9     1003     12          149\n"
     ]
    }
   ],
   "source": [
    "# Calcule o número de chamadas feitas por cada usuário por mês. Salve o resultado.\n",
    "df_calls['call_date'] = pd.to_datetime(df_calls['call_date'])\n",
    "df_calls['month'] = df_calls['call_date'].dt.month\n",
    "monthly_calls_count = df_calls.groupby(['user_id', 'month']).size().reset_index(name='calls_count')\n",
    "print(monthly_calls_count.head(10))"
   ]
  },
  {
   "cell_type": "code",
   "execution_count": 21,
   "metadata": {
    "id": "yHgBWCJJuj8q"
   },
   "outputs": [
    {
     "name": "stdout",
     "output_type": "stream",
     "text": [
      "   user_id  month  total_minutes\n",
      "0     1000     12     116.830000\n",
      "1     1001      8     204.869635\n",
      "2     1001      9     371.895197\n",
      "3     1001     10     495.536687\n",
      "4     1001     11     505.778906\n",
      "5     1001     12     460.389270\n",
      "6     1002     10      74.367781\n",
      "7     1002     11     406.981489\n",
      "8     1002     12     423.953343\n",
      "9     1003     12    1250.123738\n"
     ]
    }
   ],
   "source": [
    "# Calcule a quantidade de minutos gastos por cada usuário por mês. Salve o resultado.\n",
    "df_calls['call_date'] = pd.to_datetime(df_calls['call_date'])\n",
    "df_calls['month'] = df_calls['call_date'].dt.month\n",
    "monthly_minutes_usage = df_calls.groupby(['user_id', 'month'])['duration'].sum().reset_index()\n",
    "monthly_minutes_usage.rename(columns={'duration': 'total_minutes'}, inplace=True)\n",
    "print(monthly_minutes_usage.head(10))"
   ]
  },
  {
   "cell_type": "code",
   "execution_count": 22,
   "metadata": {
    "id": "MaM_cPxauj8q"
   },
   "outputs": [
    {
     "name": "stdout",
     "output_type": "stream",
     "text": [
      "   user_id  month  message_count\n",
      "0     1000     12             11\n",
      "1     1001      8             30\n",
      "2     1001      9             44\n",
      "3     1001     10             53\n",
      "4     1001     11             36\n",
      "5     1001     12             44\n",
      "6     1002     10             15\n",
      "7     1002     11             32\n",
      "8     1002     12             41\n",
      "9     1003     12             50\n"
     ]
    }
   ],
   "source": [
    "# Calcule o número de mensagens enviadas por cada usuário por mês. Salve o resultado\n",
    "df_messages['message_date'] = pd.to_datetime(df_messages['message_date'])\n",
    "df_messages['month'] = df_messages['message_date'].dt.month\n",
    "monthly_message_stats = df_messages.groupby(['user_id', 'month']).agg({\n",
    "    'id': 'count'               \n",
    "}).reset_index()\n",
    "monthly_message_stats.rename(columns={'id': 'message_count'}, inplace=True)\n",
    "print(monthly_message_stats.head(10))"
   ]
  },
  {
   "cell_type": "code",
   "execution_count": 23,
   "metadata": {
    "id": "WsCEZJ_xuj8q"
   },
   "outputs": [
    {
     "name": "stdout",
     "output_type": "stream",
     "text": [
      "   user_id  month  data_usage_mb\n",
      "0     1000     12        1901.47\n",
      "1     1001      8        6919.15\n",
      "2     1001      9       13314.82\n",
      "3     1001     10       22330.49\n",
      "4     1001     11       18504.30\n",
      "5     1001     12       19369.18\n",
      "6     1002     10        6552.01\n",
      "7     1002     11       19345.08\n",
      "8     1002     12       14396.24\n",
      "9     1003     12       27044.14\n"
     ]
    }
   ],
   "source": [
    "# Calcule o volume de tráfego de internet usado por cada usuário por mês. Salve o resultado.\n",
    "df_internet['session_date'] = pd.to_datetime(df_internet['session_date'])\n",
    "df_internet['month'] = df_internet['session_date'].dt.month\n",
    "monthly_data_usage = df_internet.groupby(['user_id', 'month']).agg({\n",
    "    'mb_used': 'sum'           \n",
    "}).reset_index()\n",
    "monthly_data_usage.rename(columns={'mb_used': 'data_usage_mb'}, inplace=True)\n",
    "print(monthly_data_usage.head(10))"
   ]
  },
  {
   "cell_type": "code",
   "execution_count": 24,
   "metadata": {},
   "outputs": [
    {
     "data": {
      "text/html": [
       "<div>\n",
       "<style scoped>\n",
       "    .dataframe tbody tr th:only-of-type {\n",
       "        vertical-align: middle;\n",
       "    }\n",
       "\n",
       "    .dataframe tbody tr th {\n",
       "        vertical-align: top;\n",
       "    }\n",
       "\n",
       "    .dataframe thead th {\n",
       "        text-align: right;\n",
       "    }\n",
       "</style>\n",
       "<table border=\"1\" class=\"dataframe\">\n",
       "  <thead>\n",
       "    <tr style=\"text-align: right;\">\n",
       "      <th></th>\n",
       "      <th>id</th>\n",
       "      <th>user_id</th>\n",
       "      <th>session_date</th>\n",
       "      <th>mb_used</th>\n",
       "      <th>day_of_week</th>\n",
       "      <th>session_period</th>\n",
       "      <th>extra_data_gb</th>\n",
       "      <th>month</th>\n",
       "    </tr>\n",
       "  </thead>\n",
       "  <tbody>\n",
       "    <tr>\n",
       "      <th>60</th>\n",
       "      <td>1001_109</td>\n",
       "      <td>1001</td>\n",
       "      <td>2018-10-21</td>\n",
       "      <td>596.08</td>\n",
       "      <td>Sunday</td>\n",
       "      <td>Night</td>\n",
       "      <td>0</td>\n",
       "      <td>10</td>\n",
       "    </tr>\n",
       "    <tr>\n",
       "      <th>61</th>\n",
       "      <td>1001_113</td>\n",
       "      <td>1001</td>\n",
       "      <td>2018-10-10</td>\n",
       "      <td>709.95</td>\n",
       "      <td>Wednesday</td>\n",
       "      <td>Night</td>\n",
       "      <td>0</td>\n",
       "      <td>10</td>\n",
       "    </tr>\n",
       "    <tr>\n",
       "      <th>62</th>\n",
       "      <td>1001_122</td>\n",
       "      <td>1001</td>\n",
       "      <td>2018-10-05</td>\n",
       "      <td>500.02</td>\n",
       "      <td>Friday</td>\n",
       "      <td>Night</td>\n",
       "      <td>0</td>\n",
       "      <td>10</td>\n",
       "    </tr>\n",
       "    <tr>\n",
       "      <th>67</th>\n",
       "      <td>1001_129</td>\n",
       "      <td>1001</td>\n",
       "      <td>2018-10-03</td>\n",
       "      <td>172.24</td>\n",
       "      <td>Wednesday</td>\n",
       "      <td>Night</td>\n",
       "      <td>0</td>\n",
       "      <td>10</td>\n",
       "    </tr>\n",
       "    <tr>\n",
       "      <th>71</th>\n",
       "      <td>1001_134</td>\n",
       "      <td>1001</td>\n",
       "      <td>2018-10-26</td>\n",
       "      <td>744.51</td>\n",
       "      <td>Friday</td>\n",
       "      <td>Night</td>\n",
       "      <td>0</td>\n",
       "      <td>10</td>\n",
       "    </tr>\n",
       "    <tr>\n",
       "      <th>72</th>\n",
       "      <td>1001_137</td>\n",
       "      <td>1001</td>\n",
       "      <td>2018-10-26</td>\n",
       "      <td>112.57</td>\n",
       "      <td>Friday</td>\n",
       "      <td>Night</td>\n",
       "      <td>0</td>\n",
       "      <td>10</td>\n",
       "    </tr>\n",
       "    <tr>\n",
       "      <th>74</th>\n",
       "      <td>1001_139</td>\n",
       "      <td>1001</td>\n",
       "      <td>2018-10-23</td>\n",
       "      <td>155.43</td>\n",
       "      <td>Tuesday</td>\n",
       "      <td>Night</td>\n",
       "      <td>0</td>\n",
       "      <td>10</td>\n",
       "    </tr>\n",
       "    <tr>\n",
       "      <th>75</th>\n",
       "      <td>1001_141</td>\n",
       "      <td>1001</td>\n",
       "      <td>2018-10-19</td>\n",
       "      <td>248.02</td>\n",
       "      <td>Friday</td>\n",
       "      <td>Night</td>\n",
       "      <td>0</td>\n",
       "      <td>10</td>\n",
       "    </tr>\n",
       "    <tr>\n",
       "      <th>77</th>\n",
       "      <td>1001_143</td>\n",
       "      <td>1001</td>\n",
       "      <td>2018-10-02</td>\n",
       "      <td>0.00</td>\n",
       "      <td>Tuesday</td>\n",
       "      <td>Night</td>\n",
       "      <td>0</td>\n",
       "      <td>10</td>\n",
       "    </tr>\n",
       "    <tr>\n",
       "      <th>81</th>\n",
       "      <td>1001_151</td>\n",
       "      <td>1001</td>\n",
       "      <td>2018-10-19</td>\n",
       "      <td>1123.93</td>\n",
       "      <td>Friday</td>\n",
       "      <td>Night</td>\n",
       "      <td>0</td>\n",
       "      <td>10</td>\n",
       "    </tr>\n",
       "    <tr>\n",
       "      <th>82</th>\n",
       "      <td>1001_152</td>\n",
       "      <td>1001</td>\n",
       "      <td>2018-10-04</td>\n",
       "      <td>567.54</td>\n",
       "      <td>Thursday</td>\n",
       "      <td>Night</td>\n",
       "      <td>0</td>\n",
       "      <td>10</td>\n",
       "    </tr>\n",
       "    <tr>\n",
       "      <th>10</th>\n",
       "      <td>1001_16</td>\n",
       "      <td>1001</td>\n",
       "      <td>2018-10-28</td>\n",
       "      <td>501.53</td>\n",
       "      <td>Sunday</td>\n",
       "      <td>Night</td>\n",
       "      <td>0</td>\n",
       "      <td>10</td>\n",
       "    </tr>\n",
       "    <tr>\n",
       "      <th>91</th>\n",
       "      <td>1001_167</td>\n",
       "      <td>1001</td>\n",
       "      <td>2018-10-31</td>\n",
       "      <td>372.12</td>\n",
       "      <td>Wednesday</td>\n",
       "      <td>Night</td>\n",
       "      <td>0</td>\n",
       "      <td>10</td>\n",
       "    </tr>\n",
       "    <tr>\n",
       "      <th>92</th>\n",
       "      <td>1001_169</td>\n",
       "      <td>1001</td>\n",
       "      <td>2018-10-01</td>\n",
       "      <td>643.67</td>\n",
       "      <td>Monday</td>\n",
       "      <td>Night</td>\n",
       "      <td>0</td>\n",
       "      <td>10</td>\n",
       "    </tr>\n",
       "    <tr>\n",
       "      <th>94</th>\n",
       "      <td>1001_174</td>\n",
       "      <td>1001</td>\n",
       "      <td>2018-10-22</td>\n",
       "      <td>692.92</td>\n",
       "      <td>Monday</td>\n",
       "      <td>Night</td>\n",
       "      <td>0</td>\n",
       "      <td>10</td>\n",
       "    </tr>\n",
       "    <tr>\n",
       "      <th>97</th>\n",
       "      <td>1001_179</td>\n",
       "      <td>1001</td>\n",
       "      <td>2018-10-05</td>\n",
       "      <td>62.08</td>\n",
       "      <td>Friday</td>\n",
       "      <td>Night</td>\n",
       "      <td>0</td>\n",
       "      <td>10</td>\n",
       "    </tr>\n",
       "    <tr>\n",
       "      <th>111</th>\n",
       "      <td>1001_207</td>\n",
       "      <td>1001</td>\n",
       "      <td>2018-10-08</td>\n",
       "      <td>322.28</td>\n",
       "      <td>Monday</td>\n",
       "      <td>Night</td>\n",
       "      <td>0</td>\n",
       "      <td>10</td>\n",
       "    </tr>\n",
       "    <tr>\n",
       "      <th>118</th>\n",
       "      <td>1001_218</td>\n",
       "      <td>1001</td>\n",
       "      <td>2018-10-27</td>\n",
       "      <td>45.03</td>\n",
       "      <td>Saturday</td>\n",
       "      <td>Night</td>\n",
       "      <td>0</td>\n",
       "      <td>10</td>\n",
       "    </tr>\n",
       "    <tr>\n",
       "      <th>123</th>\n",
       "      <td>1001_225</td>\n",
       "      <td>1001</td>\n",
       "      <td>2018-10-22</td>\n",
       "      <td>564.67</td>\n",
       "      <td>Monday</td>\n",
       "      <td>Night</td>\n",
       "      <td>0</td>\n",
       "      <td>10</td>\n",
       "    </tr>\n",
       "    <tr>\n",
       "      <th>126</th>\n",
       "      <td>1001_229</td>\n",
       "      <td>1001</td>\n",
       "      <td>2018-10-02</td>\n",
       "      <td>364.61</td>\n",
       "      <td>Tuesday</td>\n",
       "      <td>Night</td>\n",
       "      <td>0</td>\n",
       "      <td>10</td>\n",
       "    </tr>\n",
       "    <tr>\n",
       "      <th>127</th>\n",
       "      <td>1001_231</td>\n",
       "      <td>1001</td>\n",
       "      <td>2018-10-24</td>\n",
       "      <td>644.89</td>\n",
       "      <td>Wednesday</td>\n",
       "      <td>Night</td>\n",
       "      <td>0</td>\n",
       "      <td>10</td>\n",
       "    </tr>\n",
       "    <tr>\n",
       "      <th>13</th>\n",
       "      <td>1001_25</td>\n",
       "      <td>1001</td>\n",
       "      <td>2018-10-14</td>\n",
       "      <td>310.43</td>\n",
       "      <td>Sunday</td>\n",
       "      <td>Night</td>\n",
       "      <td>0</td>\n",
       "      <td>10</td>\n",
       "    </tr>\n",
       "    <tr>\n",
       "      <th>137</th>\n",
       "      <td>1001_252</td>\n",
       "      <td>1001</td>\n",
       "      <td>2018-10-31</td>\n",
       "      <td>319.32</td>\n",
       "      <td>Wednesday</td>\n",
       "      <td>Night</td>\n",
       "      <td>0</td>\n",
       "      <td>10</td>\n",
       "    </tr>\n",
       "    <tr>\n",
       "      <th>138</th>\n",
       "      <td>1001_259</td>\n",
       "      <td>1001</td>\n",
       "      <td>2018-10-22</td>\n",
       "      <td>523.81</td>\n",
       "      <td>Monday</td>\n",
       "      <td>Night</td>\n",
       "      <td>0</td>\n",
       "      <td>10</td>\n",
       "    </tr>\n",
       "    <tr>\n",
       "      <th>139</th>\n",
       "      <td>1001_262</td>\n",
       "      <td>1001</td>\n",
       "      <td>2018-10-02</td>\n",
       "      <td>502.14</td>\n",
       "      <td>Tuesday</td>\n",
       "      <td>Night</td>\n",
       "      <td>0</td>\n",
       "      <td>10</td>\n",
       "    </tr>\n",
       "    <tr>\n",
       "      <th>142</th>\n",
       "      <td>1001_267</td>\n",
       "      <td>1001</td>\n",
       "      <td>2018-10-04</td>\n",
       "      <td>701.01</td>\n",
       "      <td>Thursday</td>\n",
       "      <td>Night</td>\n",
       "      <td>0</td>\n",
       "      <td>10</td>\n",
       "    </tr>\n",
       "    <tr>\n",
       "      <th>16</th>\n",
       "      <td>1001_28</td>\n",
       "      <td>1001</td>\n",
       "      <td>2018-10-17</td>\n",
       "      <td>0.00</td>\n",
       "      <td>Wednesday</td>\n",
       "      <td>Night</td>\n",
       "      <td>0</td>\n",
       "      <td>10</td>\n",
       "    </tr>\n",
       "    <tr>\n",
       "      <th>17</th>\n",
       "      <td>1001_29</td>\n",
       "      <td>1001</td>\n",
       "      <td>2018-10-09</td>\n",
       "      <td>1067.99</td>\n",
       "      <td>Tuesday</td>\n",
       "      <td>Night</td>\n",
       "      <td>0</td>\n",
       "      <td>10</td>\n",
       "    </tr>\n",
       "    <tr>\n",
       "      <th>155</th>\n",
       "      <td>1001_292</td>\n",
       "      <td>1001</td>\n",
       "      <td>2018-10-23</td>\n",
       "      <td>234.08</td>\n",
       "      <td>Tuesday</td>\n",
       "      <td>Night</td>\n",
       "      <td>0</td>\n",
       "      <td>10</td>\n",
       "    </tr>\n",
       "    <tr>\n",
       "      <th>158</th>\n",
       "      <td>1001_297</td>\n",
       "      <td>1001</td>\n",
       "      <td>2018-10-19</td>\n",
       "      <td>83.70</td>\n",
       "      <td>Friday</td>\n",
       "      <td>Night</td>\n",
       "      <td>0</td>\n",
       "      <td>10</td>\n",
       "    </tr>\n",
       "    <tr>\n",
       "      <th>161</th>\n",
       "      <td>1001_301</td>\n",
       "      <td>1001</td>\n",
       "      <td>2018-10-21</td>\n",
       "      <td>0.00</td>\n",
       "      <td>Sunday</td>\n",
       "      <td>Night</td>\n",
       "      <td>0</td>\n",
       "      <td>10</td>\n",
       "    </tr>\n",
       "    <tr>\n",
       "      <th>162</th>\n",
       "      <td>1001_302</td>\n",
       "      <td>1001</td>\n",
       "      <td>2018-10-08</td>\n",
       "      <td>782.36</td>\n",
       "      <td>Monday</td>\n",
       "      <td>Night</td>\n",
       "      <td>0</td>\n",
       "      <td>10</td>\n",
       "    </tr>\n",
       "    <tr>\n",
       "      <th>164</th>\n",
       "      <td>1001_305</td>\n",
       "      <td>1001</td>\n",
       "      <td>2018-10-18</td>\n",
       "      <td>41.70</td>\n",
       "      <td>Thursday</td>\n",
       "      <td>Night</td>\n",
       "      <td>0</td>\n",
       "      <td>10</td>\n",
       "    </tr>\n",
       "    <tr>\n",
       "      <th>166</th>\n",
       "      <td>1001_307</td>\n",
       "      <td>1001</td>\n",
       "      <td>2018-10-28</td>\n",
       "      <td>0.00</td>\n",
       "      <td>Sunday</td>\n",
       "      <td>Night</td>\n",
       "      <td>0</td>\n",
       "      <td>10</td>\n",
       "    </tr>\n",
       "    <tr>\n",
       "      <th>174</th>\n",
       "      <td>1001_316</td>\n",
       "      <td>1001</td>\n",
       "      <td>2018-10-24</td>\n",
       "      <td>494.70</td>\n",
       "      <td>Wednesday</td>\n",
       "      <td>Night</td>\n",
       "      <td>0</td>\n",
       "      <td>10</td>\n",
       "    </tr>\n",
       "    <tr>\n",
       "      <th>180</th>\n",
       "      <td>1001_324</td>\n",
       "      <td>1001</td>\n",
       "      <td>2018-10-12</td>\n",
       "      <td>778.01</td>\n",
       "      <td>Friday</td>\n",
       "      <td>Night</td>\n",
       "      <td>0</td>\n",
       "      <td>10</td>\n",
       "    </tr>\n",
       "    <tr>\n",
       "      <th>181</th>\n",
       "      <td>1001_325</td>\n",
       "      <td>1001</td>\n",
       "      <td>2018-10-11</td>\n",
       "      <td>409.07</td>\n",
       "      <td>Thursday</td>\n",
       "      <td>Night</td>\n",
       "      <td>0</td>\n",
       "      <td>10</td>\n",
       "    </tr>\n",
       "    <tr>\n",
       "      <th>182</th>\n",
       "      <td>1001_326</td>\n",
       "      <td>1001</td>\n",
       "      <td>2018-10-31</td>\n",
       "      <td>282.41</td>\n",
       "      <td>Wednesday</td>\n",
       "      <td>Night</td>\n",
       "      <td>0</td>\n",
       "      <td>10</td>\n",
       "    </tr>\n",
       "    <tr>\n",
       "      <th>190</th>\n",
       "      <td>1001_339</td>\n",
       "      <td>1001</td>\n",
       "      <td>2018-10-16</td>\n",
       "      <td>0.00</td>\n",
       "      <td>Tuesday</td>\n",
       "      <td>Night</td>\n",
       "      <td>0</td>\n",
       "      <td>10</td>\n",
       "    </tr>\n",
       "    <tr>\n",
       "      <th>193</th>\n",
       "      <td>1001_346</td>\n",
       "      <td>1001</td>\n",
       "      <td>2018-10-08</td>\n",
       "      <td>759.57</td>\n",
       "      <td>Monday</td>\n",
       "      <td>Night</td>\n",
       "      <td>0</td>\n",
       "      <td>10</td>\n",
       "    </tr>\n",
       "    <tr>\n",
       "      <th>199</th>\n",
       "      <td>1001_367</td>\n",
       "      <td>1001</td>\n",
       "      <td>2018-10-09</td>\n",
       "      <td>25.41</td>\n",
       "      <td>Tuesday</td>\n",
       "      <td>Night</td>\n",
       "      <td>0</td>\n",
       "      <td>10</td>\n",
       "    </tr>\n",
       "    <tr>\n",
       "      <th>203</th>\n",
       "      <td>1001_373</td>\n",
       "      <td>1001</td>\n",
       "      <td>2018-10-13</td>\n",
       "      <td>734.39</td>\n",
       "      <td>Saturday</td>\n",
       "      <td>Night</td>\n",
       "      <td>0</td>\n",
       "      <td>10</td>\n",
       "    </tr>\n",
       "    <tr>\n",
       "      <th>220</th>\n",
       "      <td>1001_413</td>\n",
       "      <td>1001</td>\n",
       "      <td>2018-10-02</td>\n",
       "      <td>0.00</td>\n",
       "      <td>Tuesday</td>\n",
       "      <td>Night</td>\n",
       "      <td>0</td>\n",
       "      <td>10</td>\n",
       "    </tr>\n",
       "    <tr>\n",
       "      <th>222</th>\n",
       "      <td>1001_415</td>\n",
       "      <td>1001</td>\n",
       "      <td>2018-10-14</td>\n",
       "      <td>489.12</td>\n",
       "      <td>Sunday</td>\n",
       "      <td>Night</td>\n",
       "      <td>0</td>\n",
       "      <td>10</td>\n",
       "    </tr>\n",
       "    <tr>\n",
       "      <th>229</th>\n",
       "      <td>1001_432</td>\n",
       "      <td>1001</td>\n",
       "      <td>2018-10-22</td>\n",
       "      <td>604.60</td>\n",
       "      <td>Monday</td>\n",
       "      <td>Night</td>\n",
       "      <td>0</td>\n",
       "      <td>10</td>\n",
       "    </tr>\n",
       "    <tr>\n",
       "      <th>232</th>\n",
       "      <td>1001_438</td>\n",
       "      <td>1001</td>\n",
       "      <td>2018-10-09</td>\n",
       "      <td>703.40</td>\n",
       "      <td>Tuesday</td>\n",
       "      <td>Night</td>\n",
       "      <td>0</td>\n",
       "      <td>10</td>\n",
       "    </tr>\n",
       "    <tr>\n",
       "      <th>233</th>\n",
       "      <td>1001_444</td>\n",
       "      <td>1001</td>\n",
       "      <td>2018-10-22</td>\n",
       "      <td>76.71</td>\n",
       "      <td>Monday</td>\n",
       "      <td>Night</td>\n",
       "      <td>0</td>\n",
       "      <td>10</td>\n",
       "    </tr>\n",
       "    <tr>\n",
       "      <th>27</th>\n",
       "      <td>1001_45</td>\n",
       "      <td>1001</td>\n",
       "      <td>2018-10-23</td>\n",
       "      <td>483.49</td>\n",
       "      <td>Tuesday</td>\n",
       "      <td>Night</td>\n",
       "      <td>0</td>\n",
       "      <td>10</td>\n",
       "    </tr>\n",
       "    <tr>\n",
       "      <th>238</th>\n",
       "      <td>1001_456</td>\n",
       "      <td>1001</td>\n",
       "      <td>2018-10-06</td>\n",
       "      <td>57.66</td>\n",
       "      <td>Saturday</td>\n",
       "      <td>Night</td>\n",
       "      <td>0</td>\n",
       "      <td>10</td>\n",
       "    </tr>\n",
       "    <tr>\n",
       "      <th>240</th>\n",
       "      <td>1001_458</td>\n",
       "      <td>1001</td>\n",
       "      <td>2018-10-03</td>\n",
       "      <td>479.82</td>\n",
       "      <td>Wednesday</td>\n",
       "      <td>Night</td>\n",
       "      <td>0</td>\n",
       "      <td>10</td>\n",
       "    </tr>\n",
       "    <tr>\n",
       "      <th>249</th>\n",
       "      <td>1001_475</td>\n",
       "      <td>1001</td>\n",
       "      <td>2018-10-08</td>\n",
       "      <td>228.29</td>\n",
       "      <td>Monday</td>\n",
       "      <td>Night</td>\n",
       "      <td>0</td>\n",
       "      <td>10</td>\n",
       "    </tr>\n",
       "    <tr>\n",
       "      <th>30</th>\n",
       "      <td>1001_49</td>\n",
       "      <td>1001</td>\n",
       "      <td>2018-10-18</td>\n",
       "      <td>534.65</td>\n",
       "      <td>Thursday</td>\n",
       "      <td>Night</td>\n",
       "      <td>0</td>\n",
       "      <td>10</td>\n",
       "    </tr>\n",
       "    <tr>\n",
       "      <th>39</th>\n",
       "      <td>1001_66</td>\n",
       "      <td>1001</td>\n",
       "      <td>2018-10-17</td>\n",
       "      <td>976.69</td>\n",
       "      <td>Wednesday</td>\n",
       "      <td>Night</td>\n",
       "      <td>0</td>\n",
       "      <td>10</td>\n",
       "    </tr>\n",
       "    <tr>\n",
       "      <th>41</th>\n",
       "      <td>1001_73</td>\n",
       "      <td>1001</td>\n",
       "      <td>2018-10-04</td>\n",
       "      <td>501.87</td>\n",
       "      <td>Thursday</td>\n",
       "      <td>Night</td>\n",
       "      <td>0</td>\n",
       "      <td>10</td>\n",
       "    </tr>\n",
       "    <tr>\n",
       "      <th>43</th>\n",
       "      <td>1001_77</td>\n",
       "      <td>1001</td>\n",
       "      <td>2018-10-31</td>\n",
       "      <td>0.00</td>\n",
       "      <td>Wednesday</td>\n",
       "      <td>Night</td>\n",
       "      <td>0</td>\n",
       "      <td>10</td>\n",
       "    </tr>\n",
       "    <tr>\n",
       "      <th>46</th>\n",
       "      <td>1001_84</td>\n",
       "      <td>1001</td>\n",
       "      <td>2018-10-13</td>\n",
       "      <td>0.00</td>\n",
       "      <td>Saturday</td>\n",
       "      <td>Night</td>\n",
       "      <td>0</td>\n",
       "      <td>10</td>\n",
       "    </tr>\n",
       "  </tbody>\n",
       "</table>\n",
       "</div>"
      ],
      "text/plain": [
       "           id  user_id session_date  mb_used day_of_week session_period  \\\n",
       "60   1001_109     1001   2018-10-21   596.08      Sunday          Night   \n",
       "61   1001_113     1001   2018-10-10   709.95   Wednesday          Night   \n",
       "62   1001_122     1001   2018-10-05   500.02      Friday          Night   \n",
       "67   1001_129     1001   2018-10-03   172.24   Wednesday          Night   \n",
       "71   1001_134     1001   2018-10-26   744.51      Friday          Night   \n",
       "72   1001_137     1001   2018-10-26   112.57      Friday          Night   \n",
       "74   1001_139     1001   2018-10-23   155.43     Tuesday          Night   \n",
       "75   1001_141     1001   2018-10-19   248.02      Friday          Night   \n",
       "77   1001_143     1001   2018-10-02     0.00     Tuesday          Night   \n",
       "81   1001_151     1001   2018-10-19  1123.93      Friday          Night   \n",
       "82   1001_152     1001   2018-10-04   567.54    Thursday          Night   \n",
       "10    1001_16     1001   2018-10-28   501.53      Sunday          Night   \n",
       "91   1001_167     1001   2018-10-31   372.12   Wednesday          Night   \n",
       "92   1001_169     1001   2018-10-01   643.67      Monday          Night   \n",
       "94   1001_174     1001   2018-10-22   692.92      Monday          Night   \n",
       "97   1001_179     1001   2018-10-05    62.08      Friday          Night   \n",
       "111  1001_207     1001   2018-10-08   322.28      Monday          Night   \n",
       "118  1001_218     1001   2018-10-27    45.03    Saturday          Night   \n",
       "123  1001_225     1001   2018-10-22   564.67      Monday          Night   \n",
       "126  1001_229     1001   2018-10-02   364.61     Tuesday          Night   \n",
       "127  1001_231     1001   2018-10-24   644.89   Wednesday          Night   \n",
       "13    1001_25     1001   2018-10-14   310.43      Sunday          Night   \n",
       "137  1001_252     1001   2018-10-31   319.32   Wednesday          Night   \n",
       "138  1001_259     1001   2018-10-22   523.81      Monday          Night   \n",
       "139  1001_262     1001   2018-10-02   502.14     Tuesday          Night   \n",
       "142  1001_267     1001   2018-10-04   701.01    Thursday          Night   \n",
       "16    1001_28     1001   2018-10-17     0.00   Wednesday          Night   \n",
       "17    1001_29     1001   2018-10-09  1067.99     Tuesday          Night   \n",
       "155  1001_292     1001   2018-10-23   234.08     Tuesday          Night   \n",
       "158  1001_297     1001   2018-10-19    83.70      Friday          Night   \n",
       "161  1001_301     1001   2018-10-21     0.00      Sunday          Night   \n",
       "162  1001_302     1001   2018-10-08   782.36      Monday          Night   \n",
       "164  1001_305     1001   2018-10-18    41.70    Thursday          Night   \n",
       "166  1001_307     1001   2018-10-28     0.00      Sunday          Night   \n",
       "174  1001_316     1001   2018-10-24   494.70   Wednesday          Night   \n",
       "180  1001_324     1001   2018-10-12   778.01      Friday          Night   \n",
       "181  1001_325     1001   2018-10-11   409.07    Thursday          Night   \n",
       "182  1001_326     1001   2018-10-31   282.41   Wednesday          Night   \n",
       "190  1001_339     1001   2018-10-16     0.00     Tuesday          Night   \n",
       "193  1001_346     1001   2018-10-08   759.57      Monday          Night   \n",
       "199  1001_367     1001   2018-10-09    25.41     Tuesday          Night   \n",
       "203  1001_373     1001   2018-10-13   734.39    Saturday          Night   \n",
       "220  1001_413     1001   2018-10-02     0.00     Tuesday          Night   \n",
       "222  1001_415     1001   2018-10-14   489.12      Sunday          Night   \n",
       "229  1001_432     1001   2018-10-22   604.60      Monday          Night   \n",
       "232  1001_438     1001   2018-10-09   703.40     Tuesday          Night   \n",
       "233  1001_444     1001   2018-10-22    76.71      Monday          Night   \n",
       "27    1001_45     1001   2018-10-23   483.49     Tuesday          Night   \n",
       "238  1001_456     1001   2018-10-06    57.66    Saturday          Night   \n",
       "240  1001_458     1001   2018-10-03   479.82   Wednesday          Night   \n",
       "249  1001_475     1001   2018-10-08   228.29      Monday          Night   \n",
       "30    1001_49     1001   2018-10-18   534.65    Thursday          Night   \n",
       "39    1001_66     1001   2018-10-17   976.69   Wednesday          Night   \n",
       "41    1001_73     1001   2018-10-04   501.87    Thursday          Night   \n",
       "43    1001_77     1001   2018-10-31     0.00   Wednesday          Night   \n",
       "46    1001_84     1001   2018-10-13     0.00    Saturday          Night   \n",
       "\n",
       "     extra_data_gb  month  \n",
       "60               0     10  \n",
       "61               0     10  \n",
       "62               0     10  \n",
       "67               0     10  \n",
       "71               0     10  \n",
       "72               0     10  \n",
       "74               0     10  \n",
       "75               0     10  \n",
       "77               0     10  \n",
       "81               0     10  \n",
       "82               0     10  \n",
       "10               0     10  \n",
       "91               0     10  \n",
       "92               0     10  \n",
       "94               0     10  \n",
       "97               0     10  \n",
       "111              0     10  \n",
       "118              0     10  \n",
       "123              0     10  \n",
       "126              0     10  \n",
       "127              0     10  \n",
       "13               0     10  \n",
       "137              0     10  \n",
       "138              0     10  \n",
       "139              0     10  \n",
       "142              0     10  \n",
       "16               0     10  \n",
       "17               0     10  \n",
       "155              0     10  \n",
       "158              0     10  \n",
       "161              0     10  \n",
       "162              0     10  \n",
       "164              0     10  \n",
       "166              0     10  \n",
       "174              0     10  \n",
       "180              0     10  \n",
       "181              0     10  \n",
       "182              0     10  \n",
       "190              0     10  \n",
       "193              0     10  \n",
       "199              0     10  \n",
       "203              0     10  \n",
       "220              0     10  \n",
       "222              0     10  \n",
       "229              0     10  \n",
       "232              0     10  \n",
       "233              0     10  \n",
       "27               0     10  \n",
       "238              0     10  \n",
       "240              0     10  \n",
       "249              0     10  \n",
       "30               0     10  \n",
       "39               0     10  \n",
       "41               0     10  \n",
       "43               0     10  \n",
       "46               0     10  "
      ]
     },
     "execution_count": 24,
     "metadata": {},
     "output_type": "execute_result"
    }
   ],
   "source": [
    "df_internet.loc[(df_internet.user_id == 1001)& (df_internet.month == 10)].sort_values('id')"
   ]
  },
  {
   "cell_type": "code",
   "execution_count": 25,
   "metadata": {
    "id": "BYDTkxOauj8r"
   },
   "outputs": [
    {
     "name": "stdout",
     "output_type": "stream",
     "text": [
      "   user_id  month  calls_count  total_minutes  message_count  data_usage_mb\n",
      "0     1000     12         16.0     116.830000           11.0        1901.47\n",
      "1     1001      8         27.0     204.869635           30.0        6919.15\n",
      "2     1001      9         49.0     371.895197           44.0       13314.82\n",
      "3     1001     10         65.0     495.536687           53.0       22330.49\n",
      "4     1001     11         64.0     505.778906           36.0       18504.30\n",
      "5     1001     12         56.0     460.389270           44.0       19369.18\n",
      "6     1002     10         11.0      74.367781           15.0        6552.01\n",
      "7     1002     11         55.0     406.981489           32.0       19345.08\n",
      "8     1002     12         47.0     423.953343           41.0       14396.24\n",
      "9     1003     12        149.0    1250.123738           50.0       27044.14\n"
     ]
    }
   ],
   "source": [
    "# Junte os dados de chamadas, minutos, mensagens e internet com base em user_id e month\n",
    "merged_calls_minutes = pd.merge(monthly_calls_count, monthly_minutes_usage, on=['user_id', 'month'], how='outer')\n",
    "merged_messages = pd.merge(merged_calls_minutes, monthly_message_stats, on=['user_id', 'month'], how='outer')\n",
    "merged_data_usage = pd.merge(merged_messages, monthly_data_usage, on=['user_id', 'month'], how='outer')\n",
    "merged_data_usage.fillna(0, inplace=True)\n",
    "print(merged_data_usage.head(10))"
   ]
  },
  {
   "cell_type": "code",
   "execution_count": 26,
   "metadata": {
    "id": "SW-sgLaHuj8r"
   },
   "outputs": [
    {
     "name": "stdout",
     "output_type": "stream",
     "text": [
      "   user_id  month  calls_count  total_minutes  message_count  data_usage_mb  \\\n",
      "0     1000     12         16.0     116.830000           11.0        1901.47   \n",
      "1     1001      8         27.0     204.869635           30.0        6919.15   \n",
      "2     1001      9         49.0     371.895197           44.0       13314.82   \n",
      "3     1001     10         65.0     495.536687           53.0       22330.49   \n",
      "4     1001     11         64.0     505.778906           36.0       18504.30   \n",
      "5     1001     12         56.0     460.389270           44.0       19369.18   \n",
      "6     1002     10         11.0      74.367781           15.0        6552.01   \n",
      "7     1002     11         55.0     406.981489           32.0       19345.08   \n",
      "8     1002     12         47.0     423.953343           41.0       14396.24   \n",
      "9     1003     12        149.0    1250.123738           50.0       27044.14   \n",
      "\n",
      "       plan                                   city  \n",
      "0  ultimate  Atlanta-Sandy Springs-Roswell, GA MSA  \n",
      "1      surf        Seattle-Tacoma-Bellevue, WA MSA  \n",
      "2      surf        Seattle-Tacoma-Bellevue, WA MSA  \n",
      "3      surf        Seattle-Tacoma-Bellevue, WA MSA  \n",
      "4      surf        Seattle-Tacoma-Bellevue, WA MSA  \n",
      "5      surf        Seattle-Tacoma-Bellevue, WA MSA  \n",
      "6      surf   Las Vegas-Henderson-Paradise, NV MSA  \n",
      "7      surf   Las Vegas-Henderson-Paradise, NV MSA  \n",
      "8      surf   Las Vegas-Henderson-Paradise, NV MSA  \n",
      "9      surf                          Tulsa, OK MSA  \n"
     ]
    }
   ],
   "source": [
    "# Adicione as informações sobre o plano\n",
    "monthly_usage_with_plan_df = pd.merge(merged_data_usage, df_users[['user_id', 'plan', 'city']], on='user_id', how='left')\n",
    "monthly_usage_with_plan_df = pd.merge(monthly_usage_with_plan_df, df_plans['plan_name'], left_on='plan', right_on='plan_name', how='left')\n",
    "monthly_usage_with_plan_df.drop(['plan_name'], axis=1, inplace=True)\n",
    "print(monthly_usage_with_plan_df.head(10))"
   ]
  },
  {
   "cell_type": "code",
   "execution_count": 27,
   "metadata": {
    "id": "JiPHXbQAuj8r",
    "scrolled": false
   },
   "outputs": [
    {
     "name": "stdout",
     "output_type": "stream",
     "text": [
      "   user_id      plan                                   city  monthly_revenue\n",
      "0     1000  ultimate  Atlanta-Sandy Springs-Roswell, GA MSA        70.000000\n",
      "1     1001      surf        Seattle-Tacoma-Bellevue, WA MSA        20.000000\n",
      "2     1001      surf        Seattle-Tacoma-Bellevue, WA MSA        20.000000\n",
      "3     1001      surf        Seattle-Tacoma-Bellevue, WA MSA        88.161191\n",
      "4     1001      surf        Seattle-Tacoma-Bellevue, WA MSA        50.879422\n",
      "5     1001      surf        Seattle-Tacoma-Bellevue, WA MSA        59.152148\n",
      "6     1002      surf   Las Vegas-Henderson-Paradise, NV MSA        20.000000\n",
      "7     1002      surf   Las Vegas-Henderson-Paradise, NV MSA        58.916797\n",
      "8     1002      surf   Las Vegas-Henderson-Paradise, NV MSA        20.000000\n",
      "9     1003      surf                          Tulsa, OK MSA       156.606642\n"
     ]
    }
   ],
   "source": [
    "monthly_usage_with_plan_df = pd.merge(merged_data_usage, df_users[['user_id', 'plan', 'city']], on='user_id', how='left')\n",
    "monthly_usage_with_plan_df = pd.merge(monthly_usage_with_plan_df, df_plans, left_on='plan', right_on='plan_name', how='left')\n",
    "monthly_usage_with_plan_df.drop(['plan_name'], axis=1, inplace=True)\n",
    "\n",
    "monthly_usage_with_plan_df['call_excess_cost'] = (monthly_usage_with_plan_df['total_minutes'] - monthly_usage_with_plan_df['minutes_included']) * monthly_usage_with_plan_df['usd_per_minute']\n",
    "monthly_usage_with_plan_df['message_excess_cost'] = (monthly_usage_with_plan_df['message_count'] - monthly_usage_with_plan_df['messages_included']) * monthly_usage_with_plan_df['usd_per_message']\n",
    "monthly_usage_with_plan_df['data_excess_cost'] = ((monthly_usage_with_plan_df['data_usage_mb'] / 1024) - (monthly_usage_with_plan_df['mb_per_month_included'] / 1024)) * monthly_usage_with_plan_df['usd_per_gb']\n",
    "\n",
    "monthly_usage_with_plan_df.loc[monthly_usage_with_plan_df['call_excess_cost'] < 0, 'call_excess_cost'] = 0\n",
    "monthly_usage_with_plan_df.loc[monthly_usage_with_plan_df['message_excess_cost'] < 0, 'message_excess_cost'] = 0\n",
    "monthly_usage_with_plan_df.loc[monthly_usage_with_plan_df['data_excess_cost'] < 0, 'data_excess_cost'] = 0\n",
    "\n",
    "monthly_usage_with_plan_df['monthly_revenue'] = monthly_usage_with_plan_df['usd_monthly_pay'] + monthly_usage_with_plan_df['call_excess_cost'] + monthly_usage_with_plan_df['message_excess_cost'] + monthly_usage_with_plan_df['data_excess_cost']\n",
    "\n",
    "amostra_receita_mensal = monthly_usage_with_plan_df[['user_id', 'plan', 'city', 'monthly_revenue']].head(10)\n",
    "print(amostra_receita_mensal)\n"
   ]
  },
  {
   "cell_type": "markdown",
   "metadata": {},
   "source": [
    "<div class=\"alert alert-success\">\n",
    "<strong>Comentário do revisor v1</strong>\n",
    "\n",
    "Excelente trabalho com os joins aqui.\n",
    "\n",
    "Essa é a parte mais complicada do projeto e você arrasou!</div>"
   ]
  },
  {
   "cell_type": "markdown",
   "metadata": {
    "id": "0HFWXKTQuj8r"
   },
   "source": [
    "## Estude o comportamento do usuário"
   ]
  },
  {
   "cell_type": "markdown",
   "metadata": {
    "id": "umaMfSLxuj8s"
   },
   "source": [
    "### Chamadas"
   ]
  },
  {
   "cell_type": "code",
   "execution_count": 28,
   "metadata": {
    "id": "0236-tJnuj8t"
   },
   "outputs": [
    {
     "data": {
      "image/png": "[encoded data removed]",
      "text/plain": [
       "<Figure size 864x432 with 1 Axes>"
      ]
     },
     "metadata": {
      "needs_background": "light"
     },
     "output_type": "display_data"
    }
   ],
   "source": [
    "# Compare a duração média das chamadas de cada plano para cada mês distinto. Crie um gráfico de barras para visualizá-lo.\n",
    "average_call_duration_by_month = monthly_usage_with_plan_df.groupby(['plan', 'month'])['total_minutes'].mean().unstack()\n",
    "\n",
    "average_call_duration_by_month.plot(kind='bar', figsize=(12, 6))\n",
    "plt.xlabel('Mês')\n",
    "plt.ylabel('Duração Média das Chamadas (minutos)')\n",
    "plt.title('Duração Média das Chamadas por Mês e Plano')\n",
    "plt.legend(title='Plano', title_fontsize='12', fontsize='10', loc='upper right')\n",
    "plt.xticks(rotation=0)\n",
    "plt.show()"
   ]
  },
  {
   "cell_type": "code",
   "execution_count": 29,
   "metadata": {
    "id": "9sCQ1lP8uj8u"
   },
   "outputs": [
    {
     "data": {
      "image/png": "[encoded data removed]",
      "text/plain": [
       "<Figure size 1620x360 with 2 Axes>"
      ]
     },
     "metadata": {},
     "output_type": "display_data"
    }
   ],
   "source": [
    "# Compare o número de minutos de que os usuários de cada plano necessitam a cada mês. Construa um histograma.\n",
    "data_to_plot = monthly_usage_with_plan_df[['plan', 'month', 'total_minutes']]\n",
    "sns.set(style=\"whitegrid\")\n",
    "g = sns.FacetGrid(data_to_plot, col=\"plan\", col_wrap=3, height=5, aspect=1.5)\n",
    "g.map(plt.hist, \"total_minutes\", bins=20, edgecolor=\"w\")\n",
    "\n",
    "g.set_axis_labels(\"Total de Minutos\", \"Contagem\")\n",
    "plt.subplots_adjust(top=0.9)\n",
    "g.fig.suptitle(\"Distribuição do Número de Minutos por Mês para Cada Plano\")\n",
    "plt.show()"
   ]
  },
  {
   "cell_type": "code",
   "execution_count": 30,
   "metadata": {
    "id": "cIdodPExuj8u"
   },
   "outputs": [
    {
     "name": "stdout",
     "output_type": "stream",
     "text": [
      "        plan  month        mean           var\n",
      "0       surf      1  233.315562  19801.237926\n",
      "1       surf      2  331.820338  58737.320644\n",
      "2       surf      3  368.750332  41210.537505\n",
      "3       surf      4  394.307610  60021.320146\n",
      "4       surf      5  451.083225  75382.629835\n",
      "5       surf      6  483.291796  55304.765252\n",
      "6       surf      7  506.310619  77198.602829\n",
      "7       surf      8  463.998243  70194.803263\n",
      "8       surf      9  467.596584  58865.437840\n",
      "9       surf     10  485.106441  65915.463014\n",
      "10      surf     11  476.021880  63835.081511\n",
      "11      surf     12  532.775197  79115.695795\n",
      "12  ultimate      1  228.697507  20666.705128\n",
      "13  ultimate      2  454.066626  99591.230570\n",
      "14  ultimate      3  349.225813  75638.418693\n",
      "15  ultimate      4  373.687858  44254.895716\n",
      "16  ultimate      5  462.057152  55197.882532\n",
      "17  ultimate      6  417.413865  54659.566637\n",
      "18  ultimate      7  480.259240  91324.024396\n",
      "19  ultimate      8  478.700978  68580.461514\n",
      "20  ultimate      9  495.022860  72823.018449\n",
      "21  ultimate     10  511.274050  68824.805261\n",
      "22  ultimate     11  504.190795  76751.899203\n",
      "23  ultimate     12  519.101334  77334.328763\n"
     ]
    }
   ],
   "source": [
    "# Calcule a média e a variação da duração mensal das chamadas\n",
    "call_duration_stats = monthly_usage_with_plan_df.groupby(['plan', 'month'])['total_minutes'].agg(['mean', 'var']).reset_index()\n",
    "print(call_duration_stats)\n"
   ]
  },
  {
   "cell_type": "code",
   "execution_count": 31,
   "metadata": {
    "id": "DW7vTypxuj8u"
   },
   "outputs": [
    {
     "data": {
      "image/png": "[encoded data removed]",
      "text/plain": [
       "<Figure size 432x288 with 1 Axes>"
      ]
     },
     "metadata": {},
     "output_type": "display_data"
    }
   ],
   "source": [
    "# Faça um diagrama de caixa para visualizar a distribuição da duração mensal das chamadas\n",
    "plan_names = monthly_usage_with_plan_df['plan'].unique()\n",
    "for plan in plan_names:\n",
    "    data = monthly_usage_with_plan_df[monthly_usage_with_plan_df['plan'] == plan]['total_minutes']\n",
    "    plt.boxplot(data, labels=[plan])\n",
    "plt.xlabel('Plano')\n",
    "plt.ylabel('Duração Mensal das Chamadas (minutos)')\n",
    "plt.title('Distribuição da Duração Mensal das Chamadas por Plano')\n",
    "plt.show()"
   ]
  },
  {
   "cell_type": "markdown",
   "metadata": {
    "id": "Uyt3rWn7uj8u"
   },
   "source": [
    "Com base nessas conclusões, parece que o comportamento dos usuários em relação às chamadas não é fortemente influenciado pelo plano (Ultimate ou Surf) que estão usando. Ambos os grupos têm padrões de chamadas variados, e as diferenças observadas não são estatisticamente significativas."
   ]
  },
  {
   "cell_type": "markdown",
   "metadata": {},
   "source": [
    "<div class=\"alert alert-success\">\n",
    "<strong>Comentário do revisor v1</strong>\n",
    "\n",
    "Perfeita a sua análise aqui das chamadas. Os plots escolhidos e as conclusões estão excelentes!\n",
    "</div>"
   ]
  },
  {
   "cell_type": "markdown",
   "metadata": {
    "id": "2hWSPtrnuj8v"
   },
   "source": [
    "### Mensagens"
   ]
  },
  {
   "cell_type": "code",
   "execution_count": 32,
   "metadata": {
    "id": "9kPlAhOJuj8v"
   },
   "outputs": [
    {
     "data": {
      "image/png": "[encoded data removed]",
      "text/plain": [
       "<Figure size 864x432 with 1 Axes>"
      ]
     },
     "metadata": {},
     "output_type": "display_data"
    }
   ],
   "source": [
    "# Compare o número de mensagens que os usuários de cada plano tendem a enviar a cada mês\n",
    "average_messages_per_month = monthly_usage_with_plan_df.groupby(['month', 'plan'])['message_count'].mean().reset_index()\n",
    "plt.figure(figsize=(12, 6))\n",
    "sns.barplot(x='month', y='message_count', hue='plan', data=average_messages_per_month)\n",
    "plt.title('Média de Mensagens Enviadas por Mês para Cada Plano')\n",
    "plt.xlabel('Mês')\n",
    "plt.ylabel('Média de Mensagens Enviadas')\n",
    "plt.xticks(rotation=45)\n",
    "plt.legend(title='Plano')\n",
    "plt.tight_layout()\n",
    "plt.show()"
   ]
  },
  {
   "cell_type": "code",
   "execution_count": 33,
   "metadata": {
    "id": "fIVdRuT6uj8v"
   },
   "outputs": [
    {
     "data": {
      "image/png": "[encoded data removed]",
      "text/plain": [
       "<Figure size 864x432 with 1 Axes>"
      ]
     },
     "metadata": {},
     "output_type": "display_data"
    }
   ],
   "source": [
    "# Compare a quantidade de tráfego de internet consumido pelos usuários por plano\n",
    "average_data_usage_per_month = monthly_usage_with_plan_df.groupby(['month', 'plan'])['data_usage_mb'].mean().reset_index()\n",
    "plt.figure(figsize=(12, 6))\n",
    "for plan in monthly_usage_with_plan_df['plan'].unique():\n",
    "    data = monthly_usage_with_plan_df[monthly_usage_with_plan_df['plan'] == plan]['data_usage_mb']\n",
    "    sns.histplot(data, kde=True, label=plan, bins=30, color='green')\n",
    "\n",
    "plt.title('Distribuição do Tráfego de Internet Consumido por Plano')\n",
    "plt.xlabel('Tráfego de Internet Consumido (MB)')\n",
    "plt.ylabel('Contagem')\n",
    "plt.legend(title='Plano')\n",
    "plt.tight_layout()\n",
    "plt.show()"
   ]
  },
  {
   "cell_type": "markdown",
   "metadata": {
    "id": "v6QELMtcuj8v"
   },
   "source": [
    "Os usuários do plano \"ultimate\" tendem a enviar uma média maior de mensagens em comparação com os usuários do plano \"surf\". Isso pode indicar que o plano \"ultimate\" é mais popular para aqueles que utilizam mais mensagens."
   ]
  },
  {
   "cell_type": "markdown",
   "metadata": {},
   "source": [
    "<div class=\"alert alert-danger\">\n",
    "<strong>Comentário do revisor v1</strong>\n",
    "\n",
    "Os dados aqui estão corretos!\n",
    "Mas um histograma iria ajudar bastante a vermos a distribuição desses dados. Vale a pena incluir!\n",
    "</div>"
   ]
  },
  {
   "cell_type": "markdown",
   "metadata": {},
   "source": [
    "<div class=\"alert alert-info\">\n",
    "<strong>Comentário do estudante</strong>\n",
    "\n",
    "Fiz correções nos códigos para nova análise.\n",
    "</div>"
   ]
  },
  {
   "cell_type": "markdown",
   "metadata": {},
   "source": [
    "\n",
    "<div class=\"alert alert-warning\">\n",
    "<strong>Comentário do revisor v2</strong>\n",
    "\n",
    "Eu diferenciaria os dois pontos pela cor... Mas ficou incrível!\n",
    "</div>"
   ]
  },
  {
   "cell_type": "markdown",
   "metadata": {
    "id": "nHUCwAnauj8w"
   },
   "source": [
    "### Internet"
   ]
  },
  {
   "cell_type": "code",
   "execution_count": null,
   "metadata": {
    "id": "EEm27RaRuj8w"
   },
   "outputs": [],
   "source": []
  },
  {
   "cell_type": "code",
   "execution_count": null,
   "metadata": {
    "id": "Detb0wIZuj8w"
   },
   "outputs": [],
   "source": []
  },
  {
   "cell_type": "code",
   "execution_count": null,
   "metadata": {
    "id": "1zsw31_cuj8w"
   },
   "outputs": [],
   "source": []
  },
  {
   "cell_type": "markdown",
   "metadata": {
    "id": "GsHkFpGmuj8w"
   },
   "source": [
    "A distribuição do consumo de internet pelos usuários do plano \"Ultimate\" é mais ampla, indicando uma maior diversidade nos padrões de uso de dados. Por outro lado, a distribuição do consumo de internet pelos usuários do plano \"Surf\" é mais concentrada."
   ]
  },
  {
   "cell_type": "markdown",
   "metadata": {
    "id": "g23qXaYNuj8x"
   },
   "source": [
    "## Receita"
   ]
  },
  {
   "cell_type": "code",
   "execution_count": 34,
   "metadata": {
    "id": "CGuBwYRyuj8y"
   },
   "outputs": [],
   "source": [
    "mean_revenue_by_plan = monthly_usage_with_plan_df.groupby('plan')['monthly_revenue'].mean()\n",
    "variance_revenue_by_plan = monthly_usage_with_plan_df.groupby('plan')['monthly_revenue'].var()"
   ]
  },
  {
   "cell_type": "code",
   "execution_count": 35,
   "metadata": {
    "id": "qJSyfvUguj8y"
   },
   "outputs": [
    {
     "name": "stdout",
     "output_type": "stream",
     "text": [
      "Média da Receita Mensal por Plano:\n",
      "plan\n",
      "surf        58.656756\n",
      "ultimate    72.116080\n",
      "Name: monthly_revenue, dtype: float64\n"
     ]
    }
   ],
   "source": [
    "print('Média da Receita Mensal por Plano:')\n",
    "print(mean_revenue_by_plan)"
   ]
  },
  {
   "cell_type": "code",
   "execution_count": 36,
   "metadata": {
    "id": "KUSxMW71uj8z"
   },
   "outputs": [
    {
     "name": "stdout",
     "output_type": "stream",
     "text": [
      "\n",
      "Variância da Receita Mensal por Plano:\n",
      "plan\n",
      "surf        2938.277665\n",
      "ultimate     115.968081\n",
      "Name: monthly_revenue, dtype: float64\n"
     ]
    }
   ],
   "source": [
    "print('\\nVariância da Receita Mensal por Plano:')\n",
    "print(variance_revenue_by_plan)"
   ]
  },
  {
   "cell_type": "markdown",
   "metadata": {
    "id": "6X34EwHpuj8z"
   },
   "source": [
    "A análise indica que o plano \"Ultimate\" tende a gerar uma receita mensal média maior, e o plano \"Surf\" apresenta uma maior variação nos gastos dos usuários."
   ]
  },
  {
   "cell_type": "markdown",
   "metadata": {},
   "source": [
    "<div class=\"alert alert-danger\">\n",
    "<strong>Comentário do revisor v1</strong>\n",
    "\n",
    "Esses valores devem mudar quando ajustarmos os missings do data frame de internet.\n",
    "</div>"
   ]
  },
  {
   "cell_type": "markdown",
   "metadata": {},
   "source": [
    "<div class=\"alert alert-info\">\n",
    "<strong>Comentário do estudante</strong>\n",
    "\n",
    "Após as correções, refiz a análise e comentários.\n",
    "</div>"
   ]
  },
  {
   "cell_type": "markdown",
   "metadata": {},
   "source": [
    "\n",
    "<div class=\"alert alert-success\">\n",
    "<strong>Comentário do revisor v2</strong>\n",
    "\n",
    "Olha ai... Mudou bem né?\n",
    "\n",
    "Excelente!\n",
    "\n",
    "</div>"
   ]
  },
  {
   "cell_type": "markdown",
   "metadata": {
    "id": "xJ6Mu-KAuj8z"
   },
   "source": [
    "## Teste hipóteses estatísticas"
   ]
  },
  {
   "cell_type": "markdown",
   "metadata": {},
   "source": [
    "Hipótese Nula: As receitas médias dos usuários dos planos \"Ultimate\" e \"Surf\" são iguais.\n",
    "Hipótese Alternativa: As receitas médias dos usuários dos planos \"Ultimate\" e \"Surf\" são diferentes."
   ]
  },
  {
   "cell_type": "markdown",
   "metadata": {},
   "source": [
    "<div class=\"alert alert-danger\">\n",
    "<strong>Comentário do revisor v1</strong>\n",
    "\n",
    "Fundamental aqui explicitar com clareza as hipóteses do teste.\n",
    "</div>"
   ]
  },
  {
   "cell_type": "markdown",
   "metadata": {},
   "source": [
    "<div class=\"alert alert-info\">\n",
    "<strong>Comentário do estudante</strong>\n",
    "\n",
    "Após as correções, refiz a análise e comentários.\n",
    "</div>"
   ]
  },
  {
   "cell_type": "markdown",
   "metadata": {},
   "source": [
    "<div class=\"alert alert-danger\">\n",
    "<strong>Comentário do revisor v1</strong>\n",
    "\n",
    "Vamos avaliar os testes após ajustarmos os missings do data frame internet.\n",
    "</div>"
   ]
  },
  {
   "cell_type": "code",
   "execution_count": 37,
   "metadata": {
    "id": "LyGrPhpUuj80"
   },
   "outputs": [
    {
     "name": "stdout",
     "output_type": "stream",
     "text": [
      "Rejeitamos a hipótese nula. As receitas médias dos planos Surf e Ultimate são estatisticamente diferentes.\n"
     ]
    }
   ],
   "source": [
    "# Teste as hipóteses\n",
    "revenue_surf = monthly_usage_with_plan_df[monthly_usage_with_plan_df['plan'] == 'surf']['monthly_revenue']\n",
    "revenue_ultimate = monthly_usage_with_plan_df[monthly_usage_with_plan_df['plan'] == 'ultimate']['monthly_revenue']\n",
    "t_statistic, p_value = stats.ttest_ind(revenue_surf, revenue_ultimate, equal_var=False)\n",
    "alfa = 0.05\n",
    "if p_value < alfa:\n",
    "    print(\"Rejeitamos a hipótese nula. As receitas médias dos planos Surf e Ultimate são estatisticamente diferentes.\")\n",
    "else:\n",
    "    print(\"Não temos evidências para rejeitar a hipótese nula. As receitas médias dos planos Surf e Ultimate não são estatisticamente diferentes.\")"
   ]
  },
  {
   "cell_type": "markdown",
   "metadata": {},
   "source": [
    "Hipótese Nula: A receita média dos usuários da área de NY-NJ é igual à receita média dos usuários das demais regiões.\n",
    "Hipótese Alternativa: A receita média dos usuários da área de NY-NJ é diferente da receita média dos usuários das demais regiões."
   ]
  },
  {
   "cell_type": "code",
   "execution_count": 38,
   "metadata": {
    "id": "98t8iiJyuj80"
   },
   "outputs": [
    {
     "name": "stdout",
     "output_type": "stream",
     "text": [
      "Não temos evidências para rejeitar a hipótese nula. A receita média dos usuários de NY-NJ não difere da receita média das demais regiões.\n"
     ]
    }
   ],
   "source": [
    "# Teste as hipóteses\n",
    "revenue_nynj = monthly_usage_with_plan_df[monthly_usage_with_plan_df['city'] == 'NY-NJ']['monthly_revenue']\n",
    "revenue_other = monthly_usage_with_plan_df[monthly_usage_with_plan_df['city'] != 'NY-NJ']['monthly_revenue']\n",
    "t_statistic, p_value = stats.ttest_ind(revenue_nynj, revenue_other, equal_var=False)\n",
    "alfa = 0.05\n",
    "if p_value < alfa:\n",
    "    print(\"Rejeitamos a hipótese nula. A receita média dos usuários de NY-NJ difere da receita média das demais regiões.\")\n",
    "else:\n",
    "    print(\"Não temos evidências para rejeitar a hipótese nula. A receita média dos usuários de NY-NJ não difere da receita média das demais regiões.\")"
   ]
  },
  {
   "cell_type": "markdown",
   "metadata": {},
   "source": [
    "\n",
    "<div class=\"alert alert-warning\">\n",
    "<strong>Comentário do revisor v2</strong>\n",
    "\n",
    "Trabalho muito bem feito com os testes.\n",
    "\n",
    "Como sugestão de melhoria coloco abaixo o teste de Levene, que nos indicaria a melhor utilização do parâmetro equal_var, pois testaria a igualdade das variâncias:\n",
    "    \n",
    "https://docs.scipy.org/doc/scipy/reference/generated/scipy.stats.levene.html\n",
    "    \n",
    "    \n",
    "</div>"
   ]
  },
  {
   "cell_type": "markdown",
   "metadata": {
    "id": "M8WycwWFuj81"
   },
   "source": [
    "## Conclusão geral\n",
    "\n",
    "Análise Exploratória de Dados:\n",
    "\n",
    "Foram analisadas estatísticas descritivas e visualizações para entender padrões de uso, como duração das chamadas, envio de mensagens e uso da internet.\n",
    "\n",
    "Comparação entre Planos:\n",
    "\n",
    "A comparação entre os planos \"Surf\" e \"Ultimate\" foi realizada considerando diferentes aspectos, incluindo chamadas, mensagens, uso de dados e receitas mensais.\n",
    "\n",
    "Análise de Comportamento dos Usuários:\n",
    "\n",
    "Concluiu-se que o padrão de uso dos usuários varia com base no plano. Usuários do plano \"Ultimate\" tendem a utilizar mais serviços do que os usuários do plano \"Surf\".\n",
    "\n",
    "Conclusões Gerais:\n",
    "\n",
    "Os usuários do plano \"Ultimate\" tendem a gerar mais receita mensal em comparação com os usuários do plano \"Surf\".\n",
    "A receita média dos usuários de NY-NJ é estatisticamente diferente da receita média dos usuários de outras regiões."
   ]
  },
  {
   "cell_type": "markdown",
   "metadata": {},
   "source": [
    "<div class=\"alert alert-danger\">\n",
    "<strong>Comentário do revisor v1</strong>\n",
    "\n",
    "Estamos no caminho certo com essa versão, mas retocar os pontos indicados acima nos fará chegar em um resultado ainda mais incrível.\n",
    "    \n",
    "Conte comigo para ajudá-lo (a) em qualquer questão que possa vir a ter! Lembre-se de usar as caixas azuis para se comunicar comigo.\n",
    "    \n",
    "Até breve.\n",
    "</div>\n"
   ]
  },
  {
   "cell_type": "markdown",
   "metadata": {},
   "source": [
    "<div class=\"alert alert-danger\">\n",
    "<strong>Comentário do revisor v2</strong>\n",
    "\n",
    "Avançamos MUITO nessa segunda revisão. To muito feliz com o resultado! Meus parabéns!\n",
    "\n",
    "Temos apenas mais alguns detalhezinhos para fechamos aqui.\n",
    "\n",
    "Conte comigo e até breve.\n",
    "</div>"
   ]
  }
 ],
 "metadata": {
  "ExecuteTimeLog": [
   {
    "duration": 828,
    "start_time": "2021-11-16T09:21:11.304Z"
   },
   {
    "duration": 893,
    "start_time": "2021-11-16T09:21:17.728Z"
   },
   {
    "duration": 1150,
    "start_time": "2021-11-16T09:21:29.568Z"
   },
   {
    "duration": 3,
    "start_time": "2021-11-16T09:24:14.495Z"
   },
   {
    "duration": 120,
    "start_time": "2021-11-16T09:24:46.630Z"
   },
   {
    "duration": 3,
    "start_time": "2021-11-16T09:28:27.882Z"
   },
   {
    "duration": 4,
    "start_time": "2021-11-16T09:29:54.281Z"
   },
   {
    "duration": 3,
    "start_time": "2021-11-16T09:30:45.936Z"
   },
   {
    "duration": 4,
    "start_time": "2021-11-16T09:31:06.300Z"
   },
   {
    "duration": 113,
    "start_time": "2021-11-16T09:31:37.208Z"
   },
   {
    "duration": 143,
    "start_time": "2021-11-16T09:31:48.656Z"
   },
   {
    "duration": 98,
    "start_time": "2021-11-16T09:31:55.678Z"
   },
   {
    "duration": 3,
    "start_time": "2021-11-16T09:32:08.535Z"
   },
   {
    "duration": 111,
    "start_time": "2021-11-16T09:32:10.120Z"
   },
   {
    "duration": 3,
    "start_time": "2021-11-16T09:32:15.732Z"
   },
   {
    "duration": 4,
    "start_time": "2021-11-16T09:32:29.423Z"
   },
   {
    "duration": 3,
    "start_time": "2021-11-16T10:03:03.074Z"
   },
   {
    "duration": 3,
    "start_time": "2021-11-16T10:10:01.288Z"
   },
   {
    "duration": 3,
    "start_time": "2021-11-16T10:10:46.923Z"
   },
   {
    "duration": 121,
    "start_time": "2021-11-16T10:37:46.494Z"
   },
   {
    "duration": 125,
    "start_time": "2021-11-16T10:38:20.632Z"
   },
   {
    "duration": 112,
    "start_time": "2021-11-16T10:46:53.001Z"
   },
   {
    "duration": 110,
    "start_time": "2021-11-16T10:48:25.775Z"
   },
   {
    "duration": 3,
    "start_time": "2021-11-16T10:50:18.720Z"
   },
   {
    "duration": 4,
    "start_time": "2021-11-16T10:50:37.649Z"
   },
   {
    "duration": 2,
    "start_time": "2021-11-16T10:50:51.884Z"
   },
   {
    "duration": 3,
    "start_time": "2021-11-16T10:51:56.237Z"
   },
   {
    "duration": 101,
    "start_time": "2021-11-16T10:53:13.791Z"
   },
   {
    "duration": 3,
    "start_time": "2021-11-16T10:55:59.186Z"
   },
   {
    "duration": 3,
    "start_time": "2021-11-16T10:56:10.751Z"
   },
   {
    "duration": 3,
    "start_time": "2021-11-16T10:56:49.038Z"
   },
   {
    "duration": 3,
    "start_time": "2021-11-16T10:56:49.174Z"
   },
   {
    "duration": 4,
    "start_time": "2021-11-16T10:56:49.414Z"
   },
   {
    "duration": 3,
    "start_time": "2021-11-16T10:56:49.680Z"
   },
   {
    "duration": 3,
    "start_time": "2021-11-16T10:56:50.370Z"
   },
   {
    "duration": 114,
    "start_time": "2021-11-16T10:59:34.518Z"
   },
   {
    "duration": 3,
    "start_time": "2021-11-16T11:01:41.201Z"
   },
   {
    "duration": 116,
    "start_time": "2021-11-16T11:01:48.754Z"
   },
   {
    "duration": 3,
    "start_time": "2021-11-16T11:02:16.685Z"
   },
   {
    "duration": 3,
    "start_time": "2021-11-16T11:02:19.479Z"
   },
   {
    "duration": 3,
    "start_time": "2021-11-16T11:02:47.067Z"
   },
   {
    "duration": 3,
    "start_time": "2021-11-16T11:02:49.353Z"
   },
   {
    "duration": 3,
    "start_time": "2021-11-16T11:03:07.835Z"
   },
   {
    "duration": 3,
    "start_time": "2021-11-16T11:03:07.953Z"
   },
   {
    "duration": 112,
    "start_time": "2021-11-16T11:07:52.072Z"
   },
   {
    "duration": 187,
    "start_time": "2021-11-16T11:09:23.468Z"
   },
   {
    "duration": 4,
    "start_time": "2021-11-16T11:10:01.455Z"
   },
   {
    "duration": 3,
    "start_time": "2021-11-16T11:10:05.069Z"
   },
   {
    "duration": 4,
    "start_time": "2021-11-16T11:10:13.376Z"
   },
   {
    "duration": 3,
    "start_time": "2021-11-16T11:10:14.434Z"
   },
   {
    "duration": 3,
    "start_time": "2021-11-16T11:10:22.853Z"
   },
   {
    "duration": 4,
    "start_time": "2021-11-16T11:27:29.279Z"
   },
   {
    "duration": 4,
    "start_time": "2021-11-16T11:29:08.919Z"
   },
   {
    "duration": 118,
    "start_time": "2021-11-16T11:29:46.703Z"
   },
   {
    "duration": 437,
    "start_time": "2021-11-16T11:36:02.181Z"
   },
   {
    "duration": 157,
    "start_time": "2021-11-16T11:36:14.388Z"
   },
   {
    "duration": 207,
    "start_time": "2021-11-16T11:47:15.898Z"
   },
   {
    "duration": 3,
    "start_time": "2021-11-16T11:53:52.092Z"
   },
   {
    "duration": 3,
    "start_time": "2021-11-16T11:53:52.236Z"
   },
   {
    "duration": 3,
    "start_time": "2021-11-16T11:59:12.005Z"
   },
   {
    "duration": 112,
    "start_time": "2021-11-16T12:00:33.446Z"
   },
   {
    "duration": 3,
    "start_time": "2021-11-16T12:02:14.453Z"
   },
   {
    "duration": 3,
    "start_time": "2021-11-16T12:02:39.512Z"
   },
   {
    "duration": 106,
    "start_time": "2021-11-16T12:03:03.460Z"
   },
   {
    "duration": 3,
    "start_time": "2021-11-17T20:37:21.139Z"
   },
   {
    "duration": 3,
    "start_time": "2021-11-17T20:37:22.229Z"
   },
   {
    "duration": 3,
    "start_time": "2021-11-17T20:38:38.806Z"
   },
   {
    "duration": 3,
    "start_time": "2021-11-17T20:38:41.958Z"
   },
   {
    "duration": 3,
    "start_time": "2021-11-17T20:43:46.551Z"
   },
   {
    "duration": 4,
    "start_time": "2021-11-17T20:58:21.835Z"
   },
   {
    "duration": 3,
    "start_time": "2021-11-17T20:59:21.872Z"
   },
   {
    "duration": 4,
    "start_time": "2021-11-17T20:59:45.352Z"
   },
   {
    "duration": 4,
    "start_time": "2021-11-17T20:59:49.646Z"
   },
   {
    "duration": 159,
    "start_time": "2021-11-17T21:02:26.949Z"
   },
   {
    "duration": 3,
    "start_time": "2021-11-17T21:03:53.461Z"
   },
   {
    "duration": 3,
    "start_time": "2021-11-17T21:03:53.694Z"
   },
   {
    "duration": 3,
    "start_time": "2021-11-17T21:05:28.145Z"
   },
   {
    "duration": 116,
    "start_time": "2021-11-17T21:05:57.787Z"
   },
   {
    "duration": 3,
    "start_time": "2021-11-17T21:06:37.993Z"
   },
   {
    "duration": 3,
    "start_time": "2021-11-17T21:06:38.261Z"
   },
   {
    "duration": 3,
    "start_time": "2021-11-17T21:11:54.358Z"
   },
   {
    "duration": 3,
    "start_time": "2021-11-17T21:12:43.846Z"
   },
   {
    "duration": 4,
    "start_time": "2021-11-17T21:13:08.773Z"
   },
   {
    "duration": 3,
    "start_time": "2021-11-17T21:14:44.441Z"
   },
   {
    "duration": 3,
    "start_time": "2021-11-17T21:15:42.059Z"
   },
   {
    "duration": 4,
    "start_time": "2021-11-17T21:15:51.995Z"
   },
   {
    "duration": 3,
    "start_time": "2021-11-17T21:15:53.923Z"
   },
   {
    "duration": 3,
    "start_time": "2021-11-17T21:15:55.282Z"
   },
   {
    "duration": 3,
    "start_time": "2021-11-17T21:16:28.492Z"
   },
   {
    "duration": 3,
    "start_time": "2021-11-17T21:16:32.603Z"
   },
   {
    "duration": 3,
    "start_time": "2021-11-17T21:17:06.941Z"
   },
   {
    "duration": 98,
    "start_time": "2021-11-17T21:18:05.733Z"
   },
   {
    "duration": 4,
    "start_time": "2021-11-17T21:21:35.255Z"
   },
   {
    "duration": 3,
    "start_time": "2021-11-17T21:21:37.804Z"
   },
   {
    "duration": 4,
    "start_time": "2021-11-17T21:23:06.071Z"
   },
   {
    "duration": 3,
    "start_time": "2021-11-17T21:23:24.799Z"
   },
   {
    "duration": 3,
    "start_time": "2021-11-17T21:23:32.591Z"
   },
   {
    "duration": 98,
    "start_time": "2021-11-17T21:28:31.559Z"
   },
   {
    "duration": 3,
    "start_time": "2021-11-17T21:28:45.448Z"
   },
   {
    "duration": 3,
    "start_time": "2021-11-17T21:29:17.303Z"
   },
   {
    "duration": 3,
    "start_time": "2021-11-17T21:29:29.617Z"
   },
   {
    "duration": 3,
    "start_time": "2021-11-17T21:29:32.681Z"
   },
   {
    "duration": 3,
    "start_time": "2021-11-17T21:36:11.474Z"
   },
   {
    "duration": 3,
    "start_time": "2021-11-17T21:36:14.791Z"
   },
   {
    "duration": 3,
    "start_time": "2021-11-17T21:36:53.943Z"
   },
   {
    "duration": 3,
    "start_time": "2021-11-17T21:36:56.165Z"
   },
   {
    "duration": 4,
    "start_time": "2021-11-17T21:37:16.590Z"
   },
   {
    "duration": 3,
    "start_time": "2021-11-17T21:37:22.702Z"
   },
   {
    "duration": 4,
    "start_time": "2021-11-17T21:38:03.479Z"
   },
   {
    "duration": 3,
    "start_time": "2021-11-17T21:38:08.601Z"
   },
   {
    "duration": 3,
    "start_time": "2021-11-17T21:38:12.928Z"
   },
   {
    "duration": 3,
    "start_time": "2021-11-17T21:38:48.896Z"
   },
   {
    "duration": 2,
    "start_time": "2021-11-17T21:38:49.171Z"
   },
   {
    "duration": 4,
    "start_time": "2021-11-17T21:39:57.889Z"
   },
   {
    "duration": 3,
    "start_time": "2021-11-17T21:39:58.057Z"
   },
   {
    "duration": 3,
    "start_time": "2021-11-17T21:41:20.108Z"
   },
   {
    "duration": 3,
    "start_time": "2021-11-17T21:41:20.629Z"
   },
   {
    "duration": 3,
    "start_time": "2021-11-17T21:42:49.136Z"
   },
   {
    "duration": 3,
    "start_time": "2021-11-17T21:43:15.137Z"
   },
   {
    "duration": 4,
    "start_time": "2021-11-17T21:43:16.766Z"
   },
   {
    "duration": 4,
    "start_time": "2021-11-17T21:43:31.711Z"
   },
   {
    "duration": 3,
    "start_time": "2021-11-17T21:43:36.312Z"
   },
   {
    "duration": 4,
    "start_time": "2021-11-17T21:45:08.825Z"
   },
   {
    "duration": 4,
    "start_time": "2021-11-17T21:45:10.119Z"
   },
   {
    "duration": 4,
    "start_time": "2021-11-17T21:45:13.748Z"
   },
   {
    "duration": 3,
    "start_time": "2021-11-17T21:45:22.219Z"
   },
   {
    "duration": 3,
    "start_time": "2021-11-17T21:45:33.412Z"
   },
   {
    "duration": 2,
    "start_time": "2021-11-17T21:46:01.885Z"
   },
   {
    "duration": 3,
    "start_time": "2021-11-17T21:46:03.628Z"
   },
   {
    "duration": 107,
    "start_time": "2021-11-17T21:47:32.512Z"
   },
   {
    "duration": 103,
    "start_time": "2021-11-17T21:50:36.243Z"
   },
   {
    "duration": 3,
    "start_time": "2021-11-18T06:28:31.440Z"
   },
   {
    "duration": 3,
    "start_time": "2021-11-18T06:29:00.168Z"
   },
   {
    "duration": 3,
    "start_time": "2021-11-18T06:31:27.008Z"
   },
   {
    "duration": 2,
    "start_time": "2021-11-18T06:35:34.288Z"
   },
   {
    "duration": 2,
    "start_time": "2021-11-18T06:38:04.527Z"
   }
  ],
  "colab": {
   "provenance": []
  },
  "kernelspec": {
   "display_name": "Python 3 (ipykernel)",
   "language": "python",
   "name": "python3"
  },
  "language_info": {
   "codemirror_mode": {
    "name": "ipython",
    "version": 3
   },
   "file_extension": ".py",
   "mimetype": "text/x-python",
   "name": "python",
   "nbconvert_exporter": "python",
   "pygments_lexer": "ipython3",
   "version": "3.9.5"
  },
  "toc": {
   "base_numbering": 1,
   "nav_menu": {},
   "number_sections": true,
   "sideBar": true,
   "skip_h1_title": false,
   "title_cell": "Table of Contents",
   "title_sidebar": "Contents",
   "toc_cell": false,
   "toc_position": {},
   "toc_section_display": true,
   "toc_window_display": true
  }
 },
 "nbformat": 4,
 "nbformat_minor": 1
}
